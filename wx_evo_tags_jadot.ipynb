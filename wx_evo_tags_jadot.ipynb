{
 "cells": [
  {
   "cell_type": "code",
   "execution_count": 1,
   "metadata": {},
   "outputs": [
    {
     "name": "stdout",
     "output_type": "stream",
     "text": [
      "Imported 11 channel data\n"
     ]
    }
   ],
   "source": [
    "import gen_dataset_810 as mod_810fr\n",
    "# importer datetime pour typer les donnees de dates des chaines et des videos\n",
    "import datetime\n",
    "# module https://810.fr pour traitement des tags des videos\n",
    "import gen_tags_visu_810 as tv810\n",
    "# module https://810.fr pour casser les gros dataframe ou activites mensuelles\n",
    "import gen_activitemensuelle_data_810 as amd810\n",
    "\n",
    "\n",
    "\n",
    "# Définition des dates limites pour les filtres de https://s01.810.fr\n",
    "liste_mois = [{\"mois\" : \"Janvier\", \"dates\" : {\"datemin\" : datetime.datetime(2022, 1, 1, 0, 0, 0), \"datemax\" : datetime.datetime(2022, 2, 1, 0, 0, 0)}},\n",
    "                {\"mois\" : \"Février\", \"dates\" : {\"datemin\" : datetime.datetime(2022, 2, 1, 0, 0, 0), \"datemax\" : datetime.datetime(2022, 3, 1, 0, 0, 0)}},\n",
    "                {\"mois\" : \"Mars\", \"dates\" : {\"datemin\" : datetime.datetime(2022, 3, 1, 0, 0, 0), \"datemax\" : datetime.datetime(2022, 4, 1, 0, 0, 0)}}]\n",
    "\n",
    "\n",
    "# Récupération des fichiers générés à partir des API YouTube\n",
    "folder_candidats = './data_sources/stats_videos/2022_03_26/'\n",
    "# Création d'un datafram qui agrège les fichiers\n",
    "dt_candidats = mod_810fr.mb_ds()\n",
    "# Génération d'un dataframe de vidéos et d'un dataframe de chaîne (exemple dans les blocs qui suivent)\n",
    "videos_candidats_toutes, chaines_candidats_toutes  = dt_candidats.get_full_data_candidat(folder = folder_candidats)\n",
    "# Generation d'un dataframe par mois sous la forme d'une liste de [{\"mois\" : moisassocie, \"dataframe\" : dataframedumois}]\n",
    "liste_dtf_mensuel = amd810.un_dtf_par_mois(dtfglobal=videos_candidats_toutes, list_dict_dates=liste_mois)"
   ]
  },
  {
   "cell_type": "code",
   "execution_count": 2,
   "metadata": {},
   "outputs": [
    {
     "data": {
      "text/plain": [
       "array(['Eric Zemmour', 'Marine Le Pen', 'Anne Hidalgo',\n",
       "       'Valérie Pécresse', 'Jean Lassalle', 'Jean-Luc Mélenchon',\n",
       "       'Nathalie Arthaud', 'Nicolas Dupont-Aignan', 'Fabien Roussel',\n",
       "       'Avec vous', 'Yannick Jadot'], dtype=object)"
      ]
     },
     "execution_count": 2,
     "metadata": {},
     "output_type": "execute_result"
    }
   ],
   "source": [
    "candidats = chaines_candidats_toutes.candidat.unique()\n",
    "candidats"
   ]
  },
  {
   "cell_type": "code",
   "execution_count": 3,
   "metadata": {},
   "outputs": [],
   "source": [
    "# videos_candidats_toutes.head(20)"
   ]
  },
  {
   "cell_type": "markdown",
   "metadata": {},
   "source": [
    "- 1 top tags global, avec la part pour chaque mois\n",
    "- 1 top tags par mois\n",
    "\n",
    "\n",
    "- Necessite de parler en nombre de videos Taggees\n",
    "Qui tags et pourquoi."
   ]
  },
  {
   "cell_type": "code",
   "execution_count": 4,
   "metadata": {},
   "outputs": [],
   "source": [
    "datemin = liste_mois[0][\"dates\"][\"datemin\"]\n",
    "datemax = liste_mois[-1][\"dates\"][\"datemax\"]"
   ]
  },
  {
   "cell_type": "markdown",
   "metadata": {},
   "source": [
    "# Yannick Jadot"
   ]
  },
  {
   "cell_type": "code",
   "execution_count": 5,
   "metadata": {},
   "outputs": [],
   "source": [
    "candidat = \"Yannick Jadot\"\n",
    "lst_exceptions = []"
   ]
  },
  {
   "cell_type": "code",
   "execution_count": 6,
   "metadata": {},
   "outputs": [],
   "source": [
    "# Récupère seulement les vidéos d'un candidat dans le dtf globale sur la base du nom du candidat et des dates limites choisies\n",
    "videos_can = amd810.get_candidat_subdtf(dtfglobal=videos_candidats_toutes, candidat=candidat, datemin=datemin, datemax=datemax)\n",
    "# Crée une liste de dataframe par mois\n",
    "dtf_mensuel_candidat = amd810.un_dtf_par_mois(dtfglobal=videos_can, list_dict_dates=liste_mois)\n",
    "# Donne les tags les plus utilisés sur la période de temps écoulée entre datemin et datemax\n",
    "top_tags_global = tv810.liste_top_tags_de_chaines (dtfv = videos_can, top = 15, liste_exceptions= lst_exceptions,graph='non')"
   ]
  },
  {
   "cell_type": "code",
   "execution_count": 7,
   "metadata": {},
   "outputs": [
    {
     "data": {
      "text/html": [
       "<div>\n",
       "<style scoped>\n",
       "    .dataframe tbody tr th:only-of-type {\n",
       "        vertical-align: middle;\n",
       "    }\n",
       "\n",
       "    .dataframe tbody tr th {\n",
       "        vertical-align: top;\n",
       "    }\n",
       "\n",
       "    .dataframe thead th {\n",
       "        text-align: right;\n",
       "    }\n",
       "</style>\n",
       "<table border=\"1\" class=\"dataframe\">\n",
       "  <thead>\n",
       "    <tr style=\"text-align: right;\">\n",
       "      <th></th>\n",
       "      <th>Janvier</th>\n",
       "      <th>Février</th>\n",
       "      <th>Mars</th>\n",
       "    </tr>\n",
       "  </thead>\n",
       "  <tbody>\n",
       "    <tr>\n",
       "      <th>avec tags</th>\n",
       "      <td>84</td>\n",
       "      <td>97.2222</td>\n",
       "      <td>69.2308</td>\n",
       "    </tr>\n",
       "    <tr>\n",
       "      <th>sans tags</th>\n",
       "      <td>16</td>\n",
       "      <td>2.77778</td>\n",
       "      <td>30.7692</td>\n",
       "    </tr>\n",
       "  </tbody>\n",
       "</table>\n",
       "</div>"
      ],
      "text/plain": [
       "          Janvier  Février     Mars\n",
       "avec tags      84  97.2222  69.2308\n",
       "sans tags      16  2.77778  30.7692"
      ]
     },
     "execution_count": 7,
     "metadata": {},
     "output_type": "execute_result"
    }
   ],
   "source": [
    "dtf_tauxtags_mois = tv810.taux_tags_par_mois(listedtfmois=dtf_mensuel_candidat)\n",
    "dtf_tauxtags_mois.head(20)"
   ]
  },
  {
   "cell_type": "code",
   "execution_count": null,
   "metadata": {},
   "outputs": [],
   "source": []
  },
  {
   "cell_type": "code",
   "execution_count": 8,
   "metadata": {},
   "outputs": [
    {
     "name": "stdout",
     "output_type": "stream",
     "text": [
      "total videos : 126\n"
     ]
    }
   ],
   "source": [
    "videos_can = videos_candidats_toutes[videos_candidats_toutes['candidat'] == candidat]\n",
    "videos_can = videos_can[videos_can['dateVideo'] > datetime.datetime(2022,1,1,0,0,0)]\n",
    "videos_can = videos_can[videos_can['dateVideo'] < datetime.datetime(2022,4,1,0,0,0)]\n",
    "print(\"total videos : \" + str(videos_can.shape[0]))\n",
    "\n",
    "globaltagdtf = tv810.turnserie_intodtf(nomcolonne=\"Total\", serie_data=top_tags_global)"
   ]
  },
  {
   "cell_type": "code",
   "execution_count": 9,
   "metadata": {},
   "outputs": [
    {
     "name": "stdout",
     "output_type": "stream",
     "text": [
      "Janvier : 25\n",
      "Février : 36\n",
      "Mars : 65\n"
     ]
    }
   ],
   "source": [
    "for dtf in dtf_mensuel_candidat :\n",
    "    mois_courant  = dtf['mois']\n",
    "    dtfmois  = dtf['dataframe']\n",
    "    print(mois_courant + \" : \" + str(dtfmois.shape[0]))"
   ]
  },
  {
   "cell_type": "code",
   "execution_count": 10,
   "metadata": {},
   "outputs": [],
   "source": [
    "# print(top_tags_global)"
   ]
  },
  {
   "cell_type": "code",
   "execution_count": 11,
   "metadata": {},
   "outputs": [
    {
     "data": {
      "text/html": [
       "<div>\n",
       "<style scoped>\n",
       "    .dataframe tbody tr th:only-of-type {\n",
       "        vertical-align: middle;\n",
       "    }\n",
       "\n",
       "    .dataframe tbody tr th {\n",
       "        vertical-align: top;\n",
       "    }\n",
       "\n",
       "    .dataframe thead th {\n",
       "        text-align: right;\n",
       "    }\n",
       "</style>\n",
       "<table border=\"1\" class=\"dataframe\">\n",
       "  <thead>\n",
       "    <tr style=\"text-align: right;\">\n",
       "      <th></th>\n",
       "      <th>Janvier</th>\n",
       "      <th>Février</th>\n",
       "      <th>Mars</th>\n",
       "      <th>Total</th>\n",
       "    </tr>\n",
       "  </thead>\n",
       "  <tbody>\n",
       "    <tr>\n",
       "      <th>jadot 2022</th>\n",
       "      <td>11</td>\n",
       "      <td>19</td>\n",
       "      <td>39</td>\n",
       "      <td>69</td>\n",
       "    </tr>\n",
       "    <tr>\n",
       "      <th>yannick jadot</th>\n",
       "      <td>3</td>\n",
       "      <td>17</td>\n",
       "      <td>39</td>\n",
       "      <td>59</td>\n",
       "    </tr>\n",
       "    <tr>\n",
       "      <th>iMovie</th>\n",
       "      <td>4</td>\n",
       "      <td>8</td>\n",
       "      <td>3</td>\n",
       "      <td>15</td>\n",
       "    </tr>\n",
       "    <tr>\n",
       "      <th>manifestation</th>\n",
       "      <td>0</td>\n",
       "      <td>4</td>\n",
       "      <td>3</td>\n",
       "      <td>7</td>\n",
       "    </tr>\n",
       "    <tr>\n",
       "      <th>ukraine</th>\n",
       "      <td>0</td>\n",
       "      <td>4</td>\n",
       "      <td>2</td>\n",
       "      <td>6</td>\n",
       "    </tr>\n",
       "    <tr>\n",
       "      <th>ukrainien</th>\n",
       "      <td>0</td>\n",
       "      <td>4</td>\n",
       "      <td>2</td>\n",
       "      <td>6</td>\n",
       "    </tr>\n",
       "    <tr>\n",
       "      <th>solidarité</th>\n",
       "      <td>0</td>\n",
       "      <td>4</td>\n",
       "      <td>2</td>\n",
       "      <td>6</td>\n",
       "    </tr>\n",
       "    <tr>\n",
       "      <th>russie</th>\n",
       "      <td>0</td>\n",
       "      <td>4</td>\n",
       "      <td>2</td>\n",
       "      <td>6</td>\n",
       "    </tr>\n",
       "    <tr>\n",
       "      <th>écologie</th>\n",
       "      <td>1</td>\n",
       "      <td>3</td>\n",
       "      <td>1</td>\n",
       "      <td>5</td>\n",
       "    </tr>\n",
       "    <tr>\n",
       "      <th>meeting</th>\n",
       "      <td>0</td>\n",
       "      <td>4</td>\n",
       "      <td>0</td>\n",
       "      <td>4</td>\n",
       "    </tr>\n",
       "    <tr>\n",
       "      <th>Politique</th>\n",
       "      <td>0</td>\n",
       "      <td>3</td>\n",
       "      <td>0</td>\n",
       "      <td>3</td>\n",
       "    </tr>\n",
       "    <tr>\n",
       "      <th>présidentielle</th>\n",
       "      <td>0</td>\n",
       "      <td>3</td>\n",
       "      <td>0</td>\n",
       "      <td>3</td>\n",
       "    </tr>\n",
       "    <tr>\n",
       "      <th>Rennes</th>\n",
       "      <td>0</td>\n",
       "      <td>3</td>\n",
       "      <td>0</td>\n",
       "      <td>3</td>\n",
       "    </tr>\n",
       "    <tr>\n",
       "      <th>JADOT 2022</th>\n",
       "      <td>2</td>\n",
       "      <td>1</td>\n",
       "      <td>0</td>\n",
       "      <td>3</td>\n",
       "    </tr>\n",
       "    <tr>\n",
       "      <th>santé</th>\n",
       "      <td>2</td>\n",
       "      <td>0</td>\n",
       "      <td>0</td>\n",
       "      <td>2</td>\n",
       "    </tr>\n",
       "  </tbody>\n",
       "</table>\n",
       "</div>"
      ],
      "text/plain": [
       "               Janvier Février Mars  Total\n",
       "jadot 2022          11      19   39     69\n",
       "yannick jadot        3      17   39     59\n",
       "iMovie               4       8    3     15\n",
       "manifestation        0       4    3      7\n",
       "ukraine              0       4    2      6\n",
       "ukrainien            0       4    2      6\n",
       "solidarité           0       4    2      6\n",
       "russie               0       4    2      6\n",
       "écologie             1       3    1      5\n",
       "meeting              0       4    0      4\n",
       "Politique            0       3    0      3\n",
       "présidentielle       0       3    0      3\n",
       "Rennes               0       3    0      3\n",
       "JADOT 2022           2       1    0      3\n",
       "santé                2       0    0      2"
      ]
     },
     "execution_count": 11,
     "metadata": {},
     "output_type": "execute_result"
    }
   ],
   "source": [
    "dtf = tv810.nb_tags_par_mois(listedtfmois=dtf_mensuel_candidat,toptagsglobal=top_tags_global, lst_except=lst_exceptions)\n",
    "dtf = dtf.join(globaltagdtf)\n",
    "dtf = dtf.sort_values(by = [\"Total\"], ascending = False)\n",
    "dtf.head(20)"
   ]
  },
  {
   "cell_type": "code",
   "execution_count": 12,
   "metadata": {},
   "outputs": [],
   "source": [
    "tfb = tv810.part_tags_par_mois(listedtfmois=dtf_mensuel_candidat,toptagsglobal=top_tags_global, lst_except=lst_exceptions)"
   ]
  },
  {
   "cell_type": "code",
   "execution_count": 13,
   "metadata": {},
   "outputs": [
    {
     "data": {
      "text/html": [
       "<div>\n",
       "<style scoped>\n",
       "    .dataframe tbody tr th:only-of-type {\n",
       "        vertical-align: middle;\n",
       "    }\n",
       "\n",
       "    .dataframe tbody tr th {\n",
       "        vertical-align: top;\n",
       "    }\n",
       "\n",
       "    .dataframe thead th {\n",
       "        text-align: right;\n",
       "    }\n",
       "</style>\n",
       "<table border=\"1\" class=\"dataframe\">\n",
       "  <thead>\n",
       "    <tr style=\"text-align: right;\">\n",
       "      <th></th>\n",
       "      <th>Janvier</th>\n",
       "      <th>Février</th>\n",
       "      <th>Mars</th>\n",
       "      <th>Delta</th>\n",
       "    </tr>\n",
       "  </thead>\n",
       "  <tbody>\n",
       "    <tr>\n",
       "      <th>santé</th>\n",
       "      <td>18.1818</td>\n",
       "      <td>0</td>\n",
       "      <td>0</td>\n",
       "      <td>-18.181818</td>\n",
       "    </tr>\n",
       "    <tr>\n",
       "      <th>Politique</th>\n",
       "      <td>0</td>\n",
       "      <td>15.7895</td>\n",
       "      <td>0</td>\n",
       "      <td>0.000000</td>\n",
       "    </tr>\n",
       "    <tr>\n",
       "      <th>présidentielle</th>\n",
       "      <td>0</td>\n",
       "      <td>15.7895</td>\n",
       "      <td>0</td>\n",
       "      <td>0.000000</td>\n",
       "    </tr>\n",
       "    <tr>\n",
       "      <th>Rennes</th>\n",
       "      <td>0</td>\n",
       "      <td>15.7895</td>\n",
       "      <td>0</td>\n",
       "      <td>0.000000</td>\n",
       "    </tr>\n",
       "    <tr>\n",
       "      <th>JADOT 2022</th>\n",
       "      <td>18.1818</td>\n",
       "      <td>5.26316</td>\n",
       "      <td>0</td>\n",
       "      <td>-18.181818</td>\n",
       "    </tr>\n",
       "    <tr>\n",
       "      <th>meeting</th>\n",
       "      <td>0</td>\n",
       "      <td>21.0526</td>\n",
       "      <td>0</td>\n",
       "      <td>0.000000</td>\n",
       "    </tr>\n",
       "    <tr>\n",
       "      <th>écologie</th>\n",
       "      <td>9.09091</td>\n",
       "      <td>15.7895</td>\n",
       "      <td>2.5641</td>\n",
       "      <td>-6.526807</td>\n",
       "    </tr>\n",
       "    <tr>\n",
       "      <th>ukraine</th>\n",
       "      <td>0</td>\n",
       "      <td>21.0526</td>\n",
       "      <td>5.12821</td>\n",
       "      <td>5.128205</td>\n",
       "    </tr>\n",
       "    <tr>\n",
       "      <th>ukrainien</th>\n",
       "      <td>0</td>\n",
       "      <td>21.0526</td>\n",
       "      <td>5.12821</td>\n",
       "      <td>5.128205</td>\n",
       "    </tr>\n",
       "    <tr>\n",
       "      <th>solidarité</th>\n",
       "      <td>0</td>\n",
       "      <td>21.0526</td>\n",
       "      <td>5.12821</td>\n",
       "      <td>5.128205</td>\n",
       "    </tr>\n",
       "    <tr>\n",
       "      <th>russie</th>\n",
       "      <td>0</td>\n",
       "      <td>21.0526</td>\n",
       "      <td>5.12821</td>\n",
       "      <td>5.128205</td>\n",
       "    </tr>\n",
       "    <tr>\n",
       "      <th>manifestation</th>\n",
       "      <td>0</td>\n",
       "      <td>21.0526</td>\n",
       "      <td>7.69231</td>\n",
       "      <td>7.692308</td>\n",
       "    </tr>\n",
       "    <tr>\n",
       "      <th>iMovie</th>\n",
       "      <td>36.3636</td>\n",
       "      <td>42.1053</td>\n",
       "      <td>7.69231</td>\n",
       "      <td>-28.671329</td>\n",
       "    </tr>\n",
       "    <tr>\n",
       "      <th>yannick jadot</th>\n",
       "      <td>27.2727</td>\n",
       "      <td>89.4737</td>\n",
       "      <td>100</td>\n",
       "      <td>72.727273</td>\n",
       "    </tr>\n",
       "    <tr>\n",
       "      <th>jadot 2022</th>\n",
       "      <td>100</td>\n",
       "      <td>100</td>\n",
       "      <td>100</td>\n",
       "      <td>0.000000</td>\n",
       "    </tr>\n",
       "  </tbody>\n",
       "</table>\n",
       "</div>"
      ],
      "text/plain": [
       "                Janvier  Février     Mars      Delta\n",
       "santé           18.1818        0        0 -18.181818\n",
       "Politique             0  15.7895        0   0.000000\n",
       "présidentielle        0  15.7895        0   0.000000\n",
       "Rennes                0  15.7895        0   0.000000\n",
       "JADOT 2022      18.1818  5.26316        0 -18.181818\n",
       "meeting               0  21.0526        0   0.000000\n",
       "écologie        9.09091  15.7895   2.5641  -6.526807\n",
       "ukraine               0  21.0526  5.12821   5.128205\n",
       "ukrainien             0  21.0526  5.12821   5.128205\n",
       "solidarité            0  21.0526  5.12821   5.128205\n",
       "russie                0  21.0526  5.12821   5.128205\n",
       "manifestation         0  21.0526  7.69231   7.692308\n",
       "iMovie          36.3636  42.1053  7.69231 -28.671329\n",
       "yannick jadot   27.2727  89.4737      100  72.727273\n",
       "jadot 2022          100      100      100   0.000000"
      ]
     },
     "execution_count": 13,
     "metadata": {},
     "output_type": "execute_result"
    }
   ],
   "source": [
    "delta_taux = tv810.gen_delta(dtfsource=tfb, colfin=\"Mars\", coldeb=\"Janvier\", nomcol=\"Delta\")\n",
    "delta_taux.head(20)"
   ]
  }
 ],
 "metadata": {
  "interpreter": {
   "hash": "0a5331cb55ab7294c1c0f98062dab8e6b66a268d94e6b66c26b729f5ce3bba9e"
  },
  "kernelspec": {
   "display_name": "Python 3.8.5 ('base')",
   "language": "python",
   "name": "python3"
  },
  "language_info": {
   "codemirror_mode": {
    "name": "ipython",
    "version": 3
   },
   "file_extension": ".py",
   "mimetype": "text/x-python",
   "name": "python",
   "nbconvert_exporter": "python",
   "pygments_lexer": "ipython3",
   "version": "3.8.5"
  },
  "orig_nbformat": 4
 },
 "nbformat": 4,
 "nbformat_minor": 2
}
