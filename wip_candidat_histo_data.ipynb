{
 "cells": [
  {
   "cell_type": "markdown",
   "metadata": {},
   "source": [
    "# Historisation des statistiques des chaînes de candidats\n",
    "\n",
    "Analyse des statistiques des chaînes YouTube des candidats entre deux requêtes réalisées par 810"
   ]
  },
  {
   "cell_type": "code",
   "execution_count": 1,
   "metadata": {},
   "outputs": [
    {
     "name": "stdout",
     "output_type": "stream",
     "text": [
      "Imported 11 channel data\n",
      "Imported 12 channel data\n",
      "Imported 9 channel data\n",
      "Imported 11 channel data\n",
      "Imported 9 channel data\n",
      "Imported 11 channel data\n",
      "Imported 9 channel data\n",
      "Probleme avec chaine : Marine Le Pen\n",
      "Imported 9 channel data\n",
      "Imported 9 channel data\n",
      "Imported 9 channel data\n"
     ]
    }
   ],
   "source": [
    "# seul module necessaire\n",
    "import historique_mod810 as h810\n",
    "import matplotlib.pyplot as plt\n",
    "import couleurs_810 as c810\n",
    "import pandas as pd\n",
    "\n",
    "folder_candidats = './data_sources/stats_videos/'\n",
    "videos_historique, chaines_historique  = h810.get_full_histo_data(dossierparent = folder_candidats)\n",
    "chaines_historique.shape[0]\n",
    "\n",
    "# Harmoniser les dates. Un jour j'ai lance les reauetes aux alentours de minuit. Certains scripts sont donc date du 08/03, d'autres du 09/03. On ne va prendre que le 08/03\n",
    "chaines_historique['dateRqt'] = chaines_historique['dateRqt'].replace(['2022/03/09'],'2022/03/08')\n",
    "# convert column to datetime pandas\n",
    "chaines_historique['dateRqt'] = pd.to_datetime(chaines_historique['dateRqt'])\n",
    "chaines_historique =  chaines_historique.sort_values(by = [\"dateRqt\"], ascending=True)\n",
    "\n",
    "output_folder = \"./data_output/historisation-csv/\""
   ]
  },
  {
   "cell_type": "code",
   "execution_count": 2,
   "metadata": {},
   "outputs": [
    {
     "data": {
      "text/plain": [
       "array(['2021-11-30T00:00:00.000000000', '2021-12-01T00:00:00.000000000',\n",
       "       '2021-12-06T00:00:00.000000000', '2022-01-04T00:00:00.000000000',\n",
       "       '2022-02-04T00:00:00.000000000', '2022-03-04T00:00:00.000000000',\n",
       "       '2022-03-07T00:00:00.000000000', '2022-03-08T00:00:00.000000000',\n",
       "       '2022-03-17T00:00:00.000000000', '2022-03-26T00:00:00.000000000'],\n",
       "      dtype='datetime64[ns]')"
      ]
     },
     "execution_count": 2,
     "metadata": {},
     "output_type": "execute_result"
    }
   ],
   "source": [
    "chaines_historique.dateRqt.unique()"
   ]
  },
  {
   "cell_type": "code",
   "execution_count": 3,
   "metadata": {},
   "outputs": [],
   "source": [
    "import datetime\n",
    "\n",
    "# On ne conserve que les mois d'ecart\n",
    "chaines_historique = chaines_historique[chaines_historique['dateRqt'] != datetime.datetime(2021,11,30,0,0,0)]\n",
    "chaines_historique = chaines_historique[chaines_historique['dateRqt'] != datetime.datetime(2021,12,1,0,0,0)]\n",
    "chaines_historique = chaines_historique[chaines_historique['dateRqt'] != datetime.datetime(2022,3,7,0,0,0)]\n",
    "chaines_historique = chaines_historique[chaines_historique['dateRqt'] != datetime.datetime(2022,3,8,0,0,0)]\n",
    "chaines_historique = chaines_historique[chaines_historique['dateRqt'] != datetime.datetime(2022,3,17,0,0,0)]"
   ]
  },
  {
   "cell_type": "code",
   "execution_count": 4,
   "metadata": {},
   "outputs": [
    {
     "data": {
      "text/plain": [
       "array(['Emmanuel Macron', 'Valérie Pécresse', 'Éric Zemmour',\n",
       "       'Marine Le Pen', 'Nicolas Dupont-Aignan', 'Jean Lassalle',\n",
       "       'JEAN-LUC MÉLENCHON', \"Avec Yannick Jadot - 2022 L'écologie\",\n",
       "       'Nathalie Arthaud', 'Yannick Jadot 2022', 'Fabien Roussel',\n",
       "       'Emmanuel Macron avec vous', 'Anne Hidalgo'], dtype=object)"
      ]
     },
     "execution_count": 4,
     "metadata": {},
     "output_type": "execute_result"
    }
   ],
   "source": [
    "chaines_historique.chaine.unique()"
   ]
  },
  {
   "cell_type": "code",
   "execution_count": 5,
   "metadata": {},
   "outputs": [
    {
     "data": {
      "text/plain": [
       "array(['Emmanuel Macron', 'Valérie Pécresse', 'Eric Zemmour',\n",
       "       'Marine Le Pen', 'Nicolas Dupont-Aignan', 'Jean Lassalle',\n",
       "       'Jean-Luc Mélenchon', 'Yannick Jadot', 'Nathalie Arthaud',\n",
       "       'Fabien Roussel', 'Avec vous', 'Anne Hidalgo'], dtype=object)"
      ]
     },
     "execution_count": 5,
     "metadata": {},
     "output_type": "execute_result"
    }
   ],
   "source": [
    "chaines_historique.candidat.unique()"
   ]
  },
  {
   "cell_type": "code",
   "execution_count": 6,
   "metadata": {},
   "outputs": [
    {
     "data": {
      "text/html": [
       "<div>\n",
       "<style scoped>\n",
       "    .dataframe tbody tr th:only-of-type {\n",
       "        vertical-align: middle;\n",
       "    }\n",
       "\n",
       "    .dataframe tbody tr th {\n",
       "        vertical-align: top;\n",
       "    }\n",
       "\n",
       "    .dataframe thead th {\n",
       "        text-align: right;\n",
       "    }\n",
       "</style>\n",
       "<table border=\"1\" class=\"dataframe\">\n",
       "  <thead>\n",
       "    <tr style=\"text-align: right;\">\n",
       "      <th></th>\n",
       "      <th>dateRqt</th>\n",
       "      <th>candidat</th>\n",
       "      <th>parti</th>\n",
       "      <th>courant</th>\n",
       "      <th>chaine</th>\n",
       "      <th>dateCreationChaine</th>\n",
       "      <th>pays</th>\n",
       "      <th>categorieschaine</th>\n",
       "      <th>vuesChaine</th>\n",
       "      <th>abonnesChaine</th>\n",
       "      <th>nbVideosChaine</th>\n",
       "    </tr>\n",
       "  </thead>\n",
       "  <tbody>\n",
       "    <tr>\n",
       "      <th>63</th>\n",
       "      <td>2021-12-06</td>\n",
       "      <td>Emmanuel Macron</td>\n",
       "      <td>LREM</td>\n",
       "      <td>centre</td>\n",
       "      <td>Emmanuel Macron</td>\n",
       "      <td>2017-10-03</td>\n",
       "      <td>FR</td>\n",
       "      <td>[https://en.wikipedia.org/wiki/Society, https:...</td>\n",
       "      <td>16062559</td>\n",
       "      <td>231000</td>\n",
       "      <td>328</td>\n",
       "    </tr>\n",
       "  </tbody>\n",
       "</table>\n",
       "</div>"
      ],
      "text/plain": [
       "      dateRqt         candidat parti courant           chaine  \\\n",
       "63 2021-12-06  Emmanuel Macron  LREM  centre  Emmanuel Macron   \n",
       "\n",
       "   dateCreationChaine pays                                   categorieschaine  \\\n",
       "63         2017-10-03   FR  [https://en.wikipedia.org/wiki/Society, https:...   \n",
       "\n",
       "    vuesChaine  abonnesChaine  nbVideosChaine  \n",
       "63    16062559         231000             328  "
      ]
     },
     "execution_count": 6,
     "metadata": {},
     "output_type": "execute_result"
    }
   ],
   "source": [
    "chaines_historique.head(1)"
   ]
  },
  {
   "cell_type": "markdown",
   "metadata": {},
   "source": [
    "# Script specifique"
   ]
  },
  {
   "cell_type": "code",
   "execution_count": 7,
   "metadata": {},
   "outputs": [
    {
     "name": "stdout",
     "output_type": "stream",
     "text": [
      "Nom dossier : Jadot\n"
     ]
    }
   ],
   "source": [
    "candidat = \"Yannick Jadot\"\n",
    "couleur_candidat = \"#62D8A0\"\n",
    "\n",
    "\n",
    "nom_dossier = candidat.split(\" \")[1]\n",
    "print(\"Nom dossier : \"+nom_dossier)\n",
    "\n",
    "\n",
    "chaine_candidat_histo = chaines_historique[chaines_historique['candidat'] == candidat]\n",
    "chaine_candidat_histo =  chaine_candidat_histo.sort_values(by = [\"dateRqt\"], ascending=True)\n"
   ]
  },
  {
   "cell_type": "markdown",
   "metadata": {},
   "source": [
    "- croissance des abo\n",
    "- croissance relative\n",
    "- nombre de vues de la chaines\n",
    "- nombre de videos par mois\n",
    "- nombre de vues par mois\n",
    "- Les tops tags par mois\n",
    "- les tops mots par mois\n",
    "\n",
    "Tout exporter en CSV.\n",
    "\n",
    "Croissance abo entre Janvier 2022 et Mars 2022 : En Volume et en taux pour un visuel\n",
    "\n",
    "\n"
   ]
  },
  {
   "cell_type": "markdown",
   "metadata": {},
   "source": [
    "# Evolution du nombre d'abonnes"
   ]
  },
  {
   "cell_type": "code",
   "execution_count": 8,
   "metadata": {},
   "outputs": [],
   "source": [
    "mes_colonnes = [\"dateRqt\", \"abonnesChaine\"]\n",
    "base_name = \"evo_abo_chaine\""
   ]
  },
  {
   "cell_type": "code",
   "execution_count": 9,
   "metadata": {},
   "outputs": [
    {
     "data": {
      "text/plain": [
       "<AxesSubplot:title={'center':'evo_abo_chaine Yannick Jadot'}, xlabel='dateRqt'>"
      ]
     },
     "execution_count": 9,
     "metadata": {},
     "output_type": "execute_result"
    },
    {
     "data": {
      "image/png": "[encoded data removed]",
      "text/plain": [
       "<Figure size 432x288 with 1 Axes>"
      ]
     },
     "metadata": {
      "needs_background": "light"
     },
     "output_type": "display_data"
    }
   ],
   "source": [
    "chaine_candidat_histo.plot(x = mes_colonnes[0], y = mes_colonnes[1], color = couleur_candidat, title = base_name + \" \" + candidat)"
   ]
  },
  {
   "cell_type": "code",
   "execution_count": 10,
   "metadata": {},
   "outputs": [],
   "source": [
    "csv_a_dumper_ini = chaine_candidat_histo[mes_colonnes]\n",
    "csv_a_dumper_ini.to_csv(output_folder+base_name+\"_\"+candidat+\".csv\")"
   ]
  },
  {
   "cell_type": "markdown",
   "metadata": {},
   "source": [
    "# Evolution du nombre de vues de la chaine"
   ]
  },
  {
   "cell_type": "code",
   "execution_count": 11,
   "metadata": {},
   "outputs": [
    {
     "data": {
      "text/plain": [
       "<AxesSubplot:title={'center':'evo_vues_chaine Yannick Jadot'}, xlabel='dateRqt'>"
      ]
     },
     "execution_count": 11,
     "metadata": {},
     "output_type": "execute_result"
    },
    {
     "data": {
      "image/png": "[encoded data removed]",
      "text/plain": [
       "<Figure size 432x288 with 1 Axes>"
      ]
     },
     "metadata": {
      "needs_background": "light"
     },
     "output_type": "display_data"
    }
   ],
   "source": [
    "mes_colonnes = [\"dateRqt\", \"vuesChaine\"]\n",
    "base_name = \"evo_vues_chaine\"\n",
    "\n",
    "chaine_candidat_histo.plot(x = mes_colonnes[0], y = mes_colonnes[1], color = couleur_candidat, title = base_name + \" \" + candidat)"
   ]
  },
  {
   "cell_type": "code",
   "execution_count": 12,
   "metadata": {},
   "outputs": [],
   "source": [
    "csv_a_dumper_ini = chaine_candidat_histo[mes_colonnes]\n",
    "csv_a_dumper_ini.to_csv(output_folder+base_name+\"_\"+candidat+\".csv\")"
   ]
  },
  {
   "cell_type": "markdown",
   "metadata": {},
   "source": [
    "## Evolution du nombre de video de la chaine"
   ]
  },
  {
   "cell_type": "code",
   "execution_count": 13,
   "metadata": {},
   "outputs": [
    {
     "data": {
      "text/plain": [
       "<AxesSubplot:title={'center':'evo_nbvideos_chaine Yannick Jadot'}, xlabel='dateRqt'>"
      ]
     },
     "execution_count": 13,
     "metadata": {},
     "output_type": "execute_result"
    },
    {
     "data": {
      "image/png": "[encoded data removed]",
      "text/plain": [
       "<Figure size 432x288 with 1 Axes>"
      ]
     },
     "metadata": {
      "needs_background": "light"
     },
     "output_type": "display_data"
    }
   ],
   "source": [
    "mes_colonnes = [\"dateRqt\", \"nbVideosChaine\"]\n",
    "base_name = \"evo_nbvideos_chaine\"\n",
    "\n",
    "chaine_candidat_histo.plot(x = mes_colonnes[0], y = mes_colonnes[1], color = couleur_candidat, title = base_name + \" \" + candidat)"
   ]
  },
  {
   "cell_type": "markdown",
   "metadata": {},
   "source": [
    "TODO : Get gradient => "
   ]
  },
  {
   "cell_type": "code",
   "execution_count": 14,
   "metadata": {},
   "outputs": [
    {
     "data": {
      "text/plain": [
       "array(['2021-12-06T00:00:00.000000000', '2022-01-04T00:00:00.000000000',\n",
       "       '2022-02-04T00:00:00.000000000', '2022-03-04T00:00:00.000000000',\n",
       "       '2022-03-26T00:00:00.000000000'], dtype='datetime64[ns]')"
      ]
     },
     "execution_count": 14,
     "metadata": {},
     "output_type": "execute_result"
    }
   ],
   "source": [
    "listedates = []\n",
    "chaines_historique = chaines_historique.sort_values(by=['dateRqt'], ascending=True)\n",
    "listedates = chaines_historique.dateRqt.unique()\n",
    "listedates"
   ]
  },
  {
   "cell_type": "code",
   "execution_count": 15,
   "metadata": {},
   "outputs": [
    {
     "data": {
      "text/html": [
       "<div>\n",
       "<style scoped>\n",
       "    .dataframe tbody tr th:only-of-type {\n",
       "        vertical-align: middle;\n",
       "    }\n",
       "\n",
       "    .dataframe tbody tr th {\n",
       "        vertical-align: top;\n",
       "    }\n",
       "\n",
       "    .dataframe thead th {\n",
       "        text-align: right;\n",
       "    }\n",
       "</style>\n",
       "<table border=\"1\" class=\"dataframe\">\n",
       "  <thead>\n",
       "    <tr style=\"text-align: right;\">\n",
       "      <th></th>\n",
       "      <th>dateRqt</th>\n",
       "      <th>candidat</th>\n",
       "      <th>courant</th>\n",
       "      <th>nbabo_intial</th>\n",
       "      <th>nbabo_final</th>\n",
       "      <th>nbabo_delta</th>\n",
       "      <th>nbabo_taux</th>\n",
       "      <th>nbvues_intial</th>\n",
       "      <th>nbvues_final</th>\n",
       "      <th>nbvues_delta</th>\n",
       "      <th>nbvues_taux</th>\n",
       "      <th>nbvideos_intial</th>\n",
       "      <th>nbvideos_final</th>\n",
       "      <th>nbvideos_delta</th>\n",
       "      <th>nbvideos_taux</th>\n",
       "    </tr>\n",
       "  </thead>\n",
       "  <tbody>\n",
       "    <tr>\n",
       "      <th>7</th>\n",
       "      <td>2021-12-06</td>\n",
       "      <td>Yannick Jadot</td>\n",
       "      <td>vert</td>\n",
       "      <td>252</td>\n",
       "      <td>252</td>\n",
       "      <td>0</td>\n",
       "      <td>0.000000</td>\n",
       "      <td>9657</td>\n",
       "      <td>9657</td>\n",
       "      <td>0</td>\n",
       "      <td>0.000000</td>\n",
       "      <td>77</td>\n",
       "      <td>77</td>\n",
       "      <td>0</td>\n",
       "      <td>0.000000</td>\n",
       "    </tr>\n",
       "    <tr>\n",
       "      <th>7</th>\n",
       "      <td>2022-01-04</td>\n",
       "      <td>Yannick Jadot</td>\n",
       "      <td>vert</td>\n",
       "      <td>252</td>\n",
       "      <td>603</td>\n",
       "      <td>351</td>\n",
       "      <td>1.392857</td>\n",
       "      <td>9657</td>\n",
       "      <td>17618</td>\n",
       "      <td>7961</td>\n",
       "      <td>0.824376</td>\n",
       "      <td>77</td>\n",
       "      <td>89</td>\n",
       "      <td>12</td>\n",
       "      <td>0.155844</td>\n",
       "    </tr>\n",
       "    <tr>\n",
       "      <th>7</th>\n",
       "      <td>2022-02-04</td>\n",
       "      <td>Yannick Jadot</td>\n",
       "      <td>vert</td>\n",
       "      <td>603</td>\n",
       "      <td>1360</td>\n",
       "      <td>757</td>\n",
       "      <td>1.255390</td>\n",
       "      <td>17618</td>\n",
       "      <td>44876</td>\n",
       "      <td>27258</td>\n",
       "      <td>1.547168</td>\n",
       "      <td>89</td>\n",
       "      <td>120</td>\n",
       "      <td>31</td>\n",
       "      <td>0.348315</td>\n",
       "    </tr>\n",
       "    <tr>\n",
       "      <th>7</th>\n",
       "      <td>2022-03-04</td>\n",
       "      <td>Yannick Jadot</td>\n",
       "      <td>vert</td>\n",
       "      <td>1360</td>\n",
       "      <td>2150</td>\n",
       "      <td>790</td>\n",
       "      <td>0.580882</td>\n",
       "      <td>44876</td>\n",
       "      <td>105122</td>\n",
       "      <td>60246</td>\n",
       "      <td>1.342499</td>\n",
       "      <td>120</td>\n",
       "      <td>156</td>\n",
       "      <td>36</td>\n",
       "      <td>0.300000</td>\n",
       "    </tr>\n",
       "    <tr>\n",
       "      <th>7</th>\n",
       "      <td>2022-03-26</td>\n",
       "      <td>Yannick Jadot</td>\n",
       "      <td>vert</td>\n",
       "      <td>2150</td>\n",
       "      <td>3040</td>\n",
       "      <td>890</td>\n",
       "      <td>0.413953</td>\n",
       "      <td>105122</td>\n",
       "      <td>393510</td>\n",
       "      <td>288388</td>\n",
       "      <td>2.743365</td>\n",
       "      <td>156</td>\n",
       "      <td>213</td>\n",
       "      <td>57</td>\n",
       "      <td>0.365385</td>\n",
       "    </tr>\n",
       "  </tbody>\n",
       "</table>\n",
       "</div>"
      ],
      "text/plain": [
       "     dateRqt       candidat courant  nbabo_intial  nbabo_final  nbabo_delta  \\\n",
       "7 2021-12-06  Yannick Jadot    vert           252          252            0   \n",
       "7 2022-01-04  Yannick Jadot    vert           252          603          351   \n",
       "7 2022-02-04  Yannick Jadot    vert           603         1360          757   \n",
       "7 2022-03-04  Yannick Jadot    vert          1360         2150          790   \n",
       "7 2022-03-26  Yannick Jadot    vert          2150         3040          890   \n",
       "\n",
       "   nbabo_taux  nbvues_intial  nbvues_final  nbvues_delta  nbvues_taux  \\\n",
       "7    0.000000           9657          9657             0     0.000000   \n",
       "7    1.392857           9657         17618          7961     0.824376   \n",
       "7    1.255390          17618         44876         27258     1.547168   \n",
       "7    0.580882          44876        105122         60246     1.342499   \n",
       "7    0.413953         105122        393510        288388     2.743365   \n",
       "\n",
       "   nbvideos_intial  nbvideos_final  nbvideos_delta  nbvideos_taux  \n",
       "7               77              77               0       0.000000  \n",
       "7               77              89              12       0.155844  \n",
       "7               89             120              31       0.348315  \n",
       "7              120             156              36       0.300000  \n",
       "7              156             213              57       0.365385  "
      ]
     },
     "execution_count": 15,
     "metadata": {},
     "output_type": "execute_result"
    }
   ],
   "source": [
    "def creer_dtf_evo_multidate (dtfsource) :\n",
    "    dtf_evo_globale = pd.DataFrame()\n",
    "    index = 0\n",
    "    dtf_evo_globale = h810.make_dtf_evo_global(dtfchaineshisto=dtfsource, datedebut= listedates[index], datefin= listedates[index])\n",
    "    while (index < len(listedates)-1) :\n",
    "        dtf_evo = h810.make_dtf_evo_global(dtfchaineshisto=dtfsource, datedebut= listedates[index], datefin= listedates[index+1])\n",
    "        index += 1\n",
    "        dtf_evo_globale = dtf_evo_globale.append(dtf_evo)\n",
    "\n",
    "    return dtf_evo_globale\n",
    "\n",
    "dtf_evo_globale = creer_dtf_evo_multidate(chaines_historique)\n",
    "    \n",
    "test_jadot = dtf_evo_globale[dtf_evo_globale['candidat'] == \"Yannick Jadot\"]\n",
    "\n",
    "dtf_evo_globale.to_csv('poubelle.csv')\n",
    "\n",
    "test_jadot.head(10)"
   ]
  },
  {
   "cell_type": "markdown",
   "metadata": {},
   "source": [
    "- Creer un tableau ou le max des abonnes pour un candidat vaut 1.\n",
    "- Les autres mois sont un taux d'abonnes par rapport a cette totalite, on aura une bonne idee des tendances de croissance"
   ]
  },
  {
   "cell_type": "code",
   "execution_count": 16,
   "metadata": {},
   "outputs": [
    {
     "data": {
      "text/plain": [
       "<AxesSubplot:xlabel='dateRqt'>"
      ]
     },
     "execution_count": 16,
     "metadata": {},
     "output_type": "execute_result"
    },
    {
     "data": {
      "image/png": "[encoded data removed]",
      "text/plain": [
       "<Figure size 432x288 with 1 Axes>"
      ]
     },
     "metadata": {
      "needs_background": "light"
     },
     "output_type": "display_data"
    }
   ],
   "source": [
    "max_abo_jadot = test_jadot.nbabo_final.max()\n",
    "\n",
    "liste_new_taux = []\n",
    "for index, row in test_jadot.iterrows():\n",
    "    candidat = row['candidat']\n",
    "    dater = row['dateRqt']\n",
    "    nbabo = row['nbabo_final']\n",
    "    tauxabo = row['nbabo_final']/max_abo_jadot\n",
    "    liste_new_taux.append([dater, candidat, nbabo, tauxabo])\n",
    "\n",
    "df_evo = pd.DataFrame(liste_new_taux, columns=['dateRqt', \"candidat\", \"nbabo_mois\", \"tauxbasemax\"])\n",
    "\n",
    "\n",
    "df_evo.plot(x = \"dateRqt\", y = \"tauxbasemax\", color = couleur_candidat, title = '')"
   ]
  },
  {
   "cell_type": "code",
   "execution_count": 17,
   "metadata": {},
   "outputs": [
    {
     "data": {
      "text/html": [
       "<div>\n",
       "<style scoped>\n",
       "    .dataframe tbody tr th:only-of-type {\n",
       "        vertical-align: middle;\n",
       "    }\n",
       "\n",
       "    .dataframe tbody tr th {\n",
       "        vertical-align: top;\n",
       "    }\n",
       "\n",
       "    .dataframe thead th {\n",
       "        text-align: right;\n",
       "    }\n",
       "</style>\n",
       "<table border=\"1\" class=\"dataframe\">\n",
       "  <thead>\n",
       "    <tr style=\"text-align: right;\">\n",
       "      <th></th>\n",
       "      <th>dateRqt</th>\n",
       "      <th>candidat</th>\n",
       "      <th>nbabo_mois</th>\n",
       "      <th>tauxbasemax</th>\n",
       "    </tr>\n",
       "  </thead>\n",
       "  <tbody>\n",
       "    <tr>\n",
       "      <th>0</th>\n",
       "      <td>2021-12-06</td>\n",
       "      <td>Yannick Jadot</td>\n",
       "      <td>252</td>\n",
       "      <td>0.082895</td>\n",
       "    </tr>\n",
       "    <tr>\n",
       "      <th>1</th>\n",
       "      <td>2022-01-04</td>\n",
       "      <td>Yannick Jadot</td>\n",
       "      <td>603</td>\n",
       "      <td>0.198355</td>\n",
       "    </tr>\n",
       "    <tr>\n",
       "      <th>2</th>\n",
       "      <td>2022-02-04</td>\n",
       "      <td>Yannick Jadot</td>\n",
       "      <td>1360</td>\n",
       "      <td>0.447368</td>\n",
       "    </tr>\n",
       "    <tr>\n",
       "      <th>3</th>\n",
       "      <td>2022-03-04</td>\n",
       "      <td>Yannick Jadot</td>\n",
       "      <td>2150</td>\n",
       "      <td>0.707237</td>\n",
       "    </tr>\n",
       "    <tr>\n",
       "      <th>4</th>\n",
       "      <td>2022-03-26</td>\n",
       "      <td>Yannick Jadot</td>\n",
       "      <td>3040</td>\n",
       "      <td>1.000000</td>\n",
       "    </tr>\n",
       "  </tbody>\n",
       "</table>\n",
       "</div>"
      ],
      "text/plain": [
       "     dateRqt       candidat  nbabo_mois  tauxbasemax\n",
       "0 2021-12-06  Yannick Jadot         252     0.082895\n",
       "1 2022-01-04  Yannick Jadot         603     0.198355\n",
       "2 2022-02-04  Yannick Jadot        1360     0.447368\n",
       "3 2022-03-04  Yannick Jadot        2150     0.707237\n",
       "4 2022-03-26  Yannick Jadot        3040     1.000000"
      ]
     },
     "execution_count": 17,
     "metadata": {},
     "output_type": "execute_result"
    }
   ],
   "source": [
    "df_evo.head(10)"
   ]
  },
  {
   "cell_type": "markdown",
   "metadata": {},
   "source": [
    "- Faire une courbe par candidat\n",
    "\n"
   ]
  },
  {
   "cell_type": "code",
   "execution_count": 18,
   "metadata": {},
   "outputs": [],
   "source": [
    "def get_taux_par_rapport_au_max(subdtf, indicateur = \"nbabo_final\") :\n",
    "    dtf_output = pd.DataFrame()\n",
    "    dtf_output['dateRqt'] = subdtf['dateRqt'].unique()\n",
    "    for candidat in subdtf.candidat.unique() :\n",
    "        dtf_candidat = subdtf[subdtf['candidat'] == candidat]\n",
    "        max_indicateur = dtf_candidat[indicateur].max()\n",
    "\n",
    "        liste_new_taux = []\n",
    "        for index, row in dtf_candidat.iterrows():\n",
    "            candidat = row['candidat']\n",
    "            dater = row['dateRqt']\n",
    "            if max_indicateur != 0 :\n",
    "                tauxmax = row[indicateur]/max_indicateur\n",
    "            else :\n",
    "                tauxmax = 0\n",
    "            liste_new_taux.append(tauxmax)\n",
    "\n",
    "        dtf_output[candidat] = liste_new_taux\n",
    "    \n",
    "    return dtf_output\n",
    "\n",
    "dtf_taux_evo_abo = get_taux_par_rapport_au_max(subdtf=dtf_evo_globale, indicateur = \"nbabo_final\")\n",
    "dtf_taux_evo_abo.to_csv(output_folder+\"evo_taux_abo_par_candidat.csv\")\n",
    "dtf_taux_evo_vues = get_taux_par_rapport_au_max(subdtf=dtf_evo_globale, indicateur = \"nbvues_final\")\n",
    "dtf_taux_evo_vues.to_csv(output_folder+\"evo_taux_vues_par_candidat.csv\")\n",
    "dtf_taux_evo_nbvideos = get_taux_par_rapport_au_max(subdtf=dtf_evo_globale, indicateur = \"nbvideos_final\")\n",
    "dtf_taux_evo_nbvideos.to_csv(output_folder+\"evo_taux_videos_par_candidat.csv\")"
   ]
  },
  {
   "cell_type": "markdown",
   "metadata": {},
   "source": []
  }
 ],
 "metadata": {
  "interpreter": {
   "hash": "2ed17ee1431ea646ff4cd0e36ebc6074f1354fab28092324062941991356fcdc"
  },
  "kernelspec": {
   "display_name": "Python 3.8.5 64-bit ('base': conda)",
   "name": "python3"
  },
  "language_info": {
   "codemirror_mode": {
    "name": "ipython",
    "version": 3
   },
   "file_extension": ".py",
   "mimetype": "text/x-python",
   "name": "python",
   "nbconvert_exporter": "python",
   "pygments_lexer": "ipython3",
   "version": "3.8.5"
  },
  "orig_nbformat": 4
 },
 "nbformat": 4,
 "nbformat_minor": 2
}
