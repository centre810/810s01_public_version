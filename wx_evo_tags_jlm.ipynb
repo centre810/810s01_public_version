{
 "cells": [
  {
   "cell_type": "code",
   "execution_count": 1,
   "metadata": {},
   "outputs": [
    {
     "name": "stdout",
     "output_type": "stream",
     "text": [
      "Imported 11 channel data\n"
     ]
    }
   ],
   "source": [
    "import gen_dataset_810 as mod_810fr\n",
    "# importer datetime pour typer les donnees de dates des chaines et des videos\n",
    "import datetime\n",
    "# module https://810.fr pour traitement des tags des videos\n",
    "import gen_tags_visu_810 as tv810\n",
    "# module https://810.fr pour casser les gros dataframe ou activites mensuelles\n",
    "import gen_activitemensuelle_data_810 as amd810\n",
    "\n",
    "\n",
    "\n",
    "# Définition des dates limites pour les filtres de https://s01.810.fr\n",
    "liste_mois = [{\"mois\" : \"Janvier\", \"dates\" : {\"datemin\" : datetime.datetime(2022, 1, 1, 0, 0, 0), \"datemax\" : datetime.datetime(2022, 2, 1, 0, 0, 0)}},\n",
    "                {\"mois\" : \"Février\", \"dates\" : {\"datemin\" : datetime.datetime(2022, 2, 1, 0, 0, 0), \"datemax\" : datetime.datetime(2022, 3, 1, 0, 0, 0)}},\n",
    "                {\"mois\" : \"Mars\", \"dates\" : {\"datemin\" : datetime.datetime(2022, 3, 1, 0, 0, 0), \"datemax\" : datetime.datetime(2022, 4, 1, 0, 0, 0)}}]\n",
    "\n",
    "\n",
    "# Récupération des fichiers générés à partir des API YouTube\n",
    "folder_candidats = './data_sources/stats_videos/2022_03_26/'\n",
    "# Création d'un datafram qui agrège les fichiers\n",
    "dt_candidats = mod_810fr.mb_ds()\n",
    "# Génération d'un dataframe de vidéos et d'un dataframe de chaîne (exemple dans les blocs qui suivent)\n",
    "videos_candidats_toutes, chaines_candidats_toutes  = dt_candidats.get_full_data_candidat(folder = folder_candidats)\n",
    "# Generation d'un dataframe par mois sous la forme d'une liste de [{\"mois\" : moisassocie, \"dataframe\" : dataframedumois}]\n",
    "liste_dtf_mensuel = amd810.un_dtf_par_mois(dtfglobal=videos_candidats_toutes, list_dict_dates=liste_mois)"
   ]
  },
  {
   "cell_type": "code",
   "execution_count": 2,
   "metadata": {},
   "outputs": [
    {
     "data": {
      "text/plain": [
       "array(['Eric Zemmour', 'Marine Le Pen', 'Anne Hidalgo',\n",
       "       'Valérie Pécresse', 'Jean Lassalle', 'Jean-Luc Mélenchon',\n",
       "       'Nathalie Arthaud', 'Nicolas Dupont-Aignan', 'Fabien Roussel',\n",
       "       'Avec vous', 'Yannick Jadot'], dtype=object)"
      ]
     },
     "execution_count": 2,
     "metadata": {},
     "output_type": "execute_result"
    }
   ],
   "source": [
    "candidats = chaines_candidats_toutes.candidat.unique()\n",
    "candidats"
   ]
  },
  {
   "cell_type": "code",
   "execution_count": 3,
   "metadata": {},
   "outputs": [],
   "source": [
    "# videos_candidats_toutes.head(20)"
   ]
  },
  {
   "cell_type": "markdown",
   "metadata": {},
   "source": [
    "- 1 top tags global, avec la part pour chaque mois\n",
    "- 1 top tags par mois\n",
    "\n",
    "\n",
    "- Necessite de parler en nombre de videos Taggees\n",
    "Qui tags et pourquoi."
   ]
  },
  {
   "cell_type": "code",
   "execution_count": 4,
   "metadata": {},
   "outputs": [],
   "source": [
    "datemin = liste_mois[0][\"dates\"][\"datemin\"]\n",
    "datemax = liste_mois[-1][\"dates\"][\"datemax\"]"
   ]
  },
  {
   "cell_type": "markdown",
   "metadata": {},
   "source": [
    "# Jean Lassalle"
   ]
  },
  {
   "cell_type": "code",
   "execution_count": 5,
   "metadata": {},
   "outputs": [],
   "source": [
    "candidat = \"Jean-Luc Mélenchon\"\n",
    "lst_exceptions = []"
   ]
  },
  {
   "cell_type": "code",
   "execution_count": 6,
   "metadata": {},
   "outputs": [],
   "source": [
    "# Récupère seulement les vidéos d'un candidat dans le dtf globale sur la base du nom du candidat et des dates limites choisies\n",
    "videos_can = amd810.get_candidat_subdtf(dtfglobal=videos_candidats_toutes, candidat=candidat, datemin=datemin, datemax=datemax)\n",
    "# Crée une liste de dataframe par mois\n",
    "dtf_mensuel_candidat = amd810.un_dtf_par_mois(dtfglobal=videos_can, list_dict_dates=liste_mois)\n",
    "# Donne les tags les plus utilisés sur la période de temps écoulée entre datemin et datemax\n",
    "top_tags_global = tv810.liste_top_tags_de_chaines (dtfv = videos_can, top = 15, liste_exceptions= lst_exceptions,graph='non')"
   ]
  },
  {
   "cell_type": "code",
   "execution_count": 7,
   "metadata": {},
   "outputs": [
    {
     "data": {
      "text/html": [
       "<div>\n",
       "<style scoped>\n",
       "    .dataframe tbody tr th:only-of-type {\n",
       "        vertical-align: middle;\n",
       "    }\n",
       "\n",
       "    .dataframe tbody tr th {\n",
       "        vertical-align: top;\n",
       "    }\n",
       "\n",
       "    .dataframe thead th {\n",
       "        text-align: right;\n",
       "    }\n",
       "</style>\n",
       "<table border=\"1\" class=\"dataframe\">\n",
       "  <thead>\n",
       "    <tr style=\"text-align: right;\">\n",
       "      <th></th>\n",
       "      <th>Janvier</th>\n",
       "      <th>Février</th>\n",
       "      <th>Mars</th>\n",
       "    </tr>\n",
       "  </thead>\n",
       "  <tbody>\n",
       "    <tr>\n",
       "      <th>avec tags</th>\n",
       "      <td>96.4286</td>\n",
       "      <td>88.8889</td>\n",
       "      <td>100</td>\n",
       "    </tr>\n",
       "    <tr>\n",
       "      <th>sans tags</th>\n",
       "      <td>3.57143</td>\n",
       "      <td>11.1111</td>\n",
       "      <td>0</td>\n",
       "    </tr>\n",
       "  </tbody>\n",
       "</table>\n",
       "</div>"
      ],
      "text/plain": [
       "           Janvier  Février Mars\n",
       "avec tags  96.4286  88.8889  100\n",
       "sans tags  3.57143  11.1111    0"
      ]
     },
     "execution_count": 7,
     "metadata": {},
     "output_type": "execute_result"
    }
   ],
   "source": [
    "dtf_tauxtags_mois = tv810.taux_tags_par_mois(listedtfmois=dtf_mensuel_candidat)\n",
    "dtf_tauxtags_mois.head(20)"
   ]
  },
  {
   "cell_type": "code",
   "execution_count": null,
   "metadata": {},
   "outputs": [],
   "source": []
  },
  {
   "cell_type": "code",
   "execution_count": 8,
   "metadata": {},
   "outputs": [
    {
     "name": "stdout",
     "output_type": "stream",
     "text": [
      "total videos : 78\n"
     ]
    }
   ],
   "source": [
    "videos_can = videos_candidats_toutes[videos_candidats_toutes['candidat'] == candidat]\n",
    "videos_can = videos_can[videos_can['dateVideo'] > datetime.datetime(2022,1,1,0,0,0)]\n",
    "videos_can = videos_can[videos_can['dateVideo'] < datetime.datetime(2022,4,1,0,0,0)]\n",
    "print(\"total videos : \" + str(videos_can.shape[0]))\n",
    "\n",
    "globaltagdtf = tv810.turnserie_intodtf(nomcolonne=\"Total\", serie_data=top_tags_global)"
   ]
  },
  {
   "cell_type": "code",
   "execution_count": 9,
   "metadata": {},
   "outputs": [
    {
     "name": "stdout",
     "output_type": "stream",
     "text": [
      "Janvier : 28\n",
      "Février : 27\n",
      "Mars : 23\n"
     ]
    }
   ],
   "source": [
    "for dtf in dtf_mensuel_candidat :\n",
    "    mois_courant  = dtf['mois']\n",
    "    dtfmois  = dtf['dataframe']\n",
    "    print(mois_courant + \" : \" + str(dtfmois.shape[0]))"
   ]
  },
  {
   "cell_type": "code",
   "execution_count": 10,
   "metadata": {},
   "outputs": [],
   "source": [
    "# print(top_tags_global)"
   ]
  },
  {
   "cell_type": "code",
   "execution_count": 11,
   "metadata": {},
   "outputs": [
    {
     "data": {
      "text/html": [
       "<div>\n",
       "<style scoped>\n",
       "    .dataframe tbody tr th:only-of-type {\n",
       "        vertical-align: middle;\n",
       "    }\n",
       "\n",
       "    .dataframe tbody tr th {\n",
       "        vertical-align: top;\n",
       "    }\n",
       "\n",
       "    .dataframe thead th {\n",
       "        text-align: right;\n",
       "    }\n",
       "</style>\n",
       "<table border=\"1\" class=\"dataframe\">\n",
       "  <thead>\n",
       "    <tr style=\"text-align: right;\">\n",
       "      <th></th>\n",
       "      <th>Janvier</th>\n",
       "      <th>Février</th>\n",
       "      <th>Mars</th>\n",
       "      <th>Total</th>\n",
       "    </tr>\n",
       "  </thead>\n",
       "  <tbody>\n",
       "    <tr>\n",
       "      <th>mélenchon</th>\n",
       "      <td>14</td>\n",
       "      <td>10</td>\n",
       "      <td>21</td>\n",
       "      <td>45</td>\n",
       "    </tr>\n",
       "    <tr>\n",
       "      <th>ukraine</th>\n",
       "      <td>0</td>\n",
       "      <td>13</td>\n",
       "      <td>16</td>\n",
       "      <td>29</td>\n",
       "    </tr>\n",
       "    <tr>\n",
       "      <th>russie</th>\n",
       "      <td>0</td>\n",
       "      <td>10</td>\n",
       "      <td>14</td>\n",
       "      <td>25</td>\n",
       "    </tr>\n",
       "    <tr>\n",
       "      <th>macron</th>\n",
       "      <td>5</td>\n",
       "      <td>9</td>\n",
       "      <td>8</td>\n",
       "      <td>22</td>\n",
       "    </tr>\n",
       "    <tr>\n",
       "      <th>poutine</th>\n",
       "      <td>0</td>\n",
       "      <td>8</td>\n",
       "      <td>14</td>\n",
       "      <td>22</td>\n",
       "    </tr>\n",
       "    <tr>\n",
       "      <th>guerre</th>\n",
       "      <td>0</td>\n",
       "      <td>5</td>\n",
       "      <td>8</td>\n",
       "      <td>13</td>\n",
       "    </tr>\n",
       "    <tr>\n",
       "      <th>smic</th>\n",
       "      <td>0</td>\n",
       "      <td>6</td>\n",
       "      <td>7</td>\n",
       "      <td>13</td>\n",
       "    </tr>\n",
       "    <tr>\n",
       "      <th>otan</th>\n",
       "      <td>2</td>\n",
       "      <td>8</td>\n",
       "      <td>2</td>\n",
       "      <td>12</td>\n",
       "    </tr>\n",
       "    <tr>\n",
       "      <th>prix</th>\n",
       "      <td>5</td>\n",
       "      <td>2</td>\n",
       "      <td>4</td>\n",
       "      <td>11</td>\n",
       "    </tr>\n",
       "    <tr>\n",
       "      <th>europe</th>\n",
       "      <td>4</td>\n",
       "      <td>4</td>\n",
       "      <td>2</td>\n",
       "      <td>10</td>\n",
       "    </tr>\n",
       "    <tr>\n",
       "      <th>nucléaire</th>\n",
       "      <td>0</td>\n",
       "      <td>3</td>\n",
       "      <td>5</td>\n",
       "      <td>9</td>\n",
       "    </tr>\n",
       "    <tr>\n",
       "      <th>essence</th>\n",
       "      <td>2</td>\n",
       "      <td>2</td>\n",
       "      <td>5</td>\n",
       "      <td>9</td>\n",
       "    </tr>\n",
       "    <tr>\n",
       "      <th>école</th>\n",
       "      <td>3</td>\n",
       "      <td>2</td>\n",
       "      <td>4</td>\n",
       "      <td>9</td>\n",
       "    </tr>\n",
       "    <tr>\n",
       "      <th>retraite</th>\n",
       "      <td>2</td>\n",
       "      <td>2</td>\n",
       "      <td>5</td>\n",
       "      <td>9</td>\n",
       "    </tr>\n",
       "    <tr>\n",
       "      <th>hôpital</th>\n",
       "      <td>2</td>\n",
       "      <td>4</td>\n",
       "      <td>3</td>\n",
       "      <td>9</td>\n",
       "    </tr>\n",
       "  </tbody>\n",
       "</table>\n",
       "</div>"
      ],
      "text/plain": [
       "          Janvier Février Mars  Total\n",
       "mélenchon      14      10   21     45\n",
       "ukraine         0      13   16     29\n",
       "russie          0      10   14     25\n",
       "macron          5       9    8     22\n",
       "poutine         0       8   14     22\n",
       "guerre          0       5    8     13\n",
       "smic            0       6    7     13\n",
       "otan            2       8    2     12\n",
       "prix            5       2    4     11\n",
       "europe          4       4    2     10\n",
       "nucléaire       0       3    5      9\n",
       "essence         2       2    5      9\n",
       "école           3       2    4      9\n",
       "retraite        2       2    5      9\n",
       "hôpital         2       4    3      9"
      ]
     },
     "execution_count": 11,
     "metadata": {},
     "output_type": "execute_result"
    }
   ],
   "source": [
    "dtf = tv810.nb_tags_par_mois(listedtfmois=dtf_mensuel_candidat,toptagsglobal=top_tags_global, lst_except=lst_exceptions)\n",
    "dtf = dtf.join(globaltagdtf)\n",
    "dtf = dtf.sort_values(by = [\"Total\"], ascending = False)\n",
    "dtf.head(20)"
   ]
  },
  {
   "cell_type": "code",
   "execution_count": 12,
   "metadata": {},
   "outputs": [],
   "source": [
    "tfb = tv810.part_tags_par_mois(listedtfmois=dtf_mensuel_candidat,toptagsglobal=top_tags_global, lst_except=lst_exceptions)"
   ]
  },
  {
   "cell_type": "code",
   "execution_count": 13,
   "metadata": {},
   "outputs": [
    {
     "data": {
      "text/html": [
       "<div>\n",
       "<style scoped>\n",
       "    .dataframe tbody tr th:only-of-type {\n",
       "        vertical-align: middle;\n",
       "    }\n",
       "\n",
       "    .dataframe tbody tr th {\n",
       "        vertical-align: top;\n",
       "    }\n",
       "\n",
       "    .dataframe thead th {\n",
       "        text-align: right;\n",
       "    }\n",
       "</style>\n",
       "<table border=\"1\" class=\"dataframe\">\n",
       "  <thead>\n",
       "    <tr style=\"text-align: right;\">\n",
       "      <th></th>\n",
       "      <th>Janvier</th>\n",
       "      <th>Février</th>\n",
       "      <th>Mars</th>\n",
       "      <th>Delta</th>\n",
       "    </tr>\n",
       "  </thead>\n",
       "  <tbody>\n",
       "    <tr>\n",
       "      <th>nucléaire</th>\n",
       "      <td>0</td>\n",
       "      <td>23.0769</td>\n",
       "      <td>23.8095</td>\n",
       "      <td>23.809524</td>\n",
       "    </tr>\n",
       "    <tr>\n",
       "      <th>essence</th>\n",
       "      <td>14.2857</td>\n",
       "      <td>15.3846</td>\n",
       "      <td>23.8095</td>\n",
       "      <td>9.523810</td>\n",
       "    </tr>\n",
       "    <tr>\n",
       "      <th>école</th>\n",
       "      <td>21.4286</td>\n",
       "      <td>15.3846</td>\n",
       "      <td>19.0476</td>\n",
       "      <td>-2.380952</td>\n",
       "    </tr>\n",
       "    <tr>\n",
       "      <th>retraite</th>\n",
       "      <td>14.2857</td>\n",
       "      <td>15.3846</td>\n",
       "      <td>23.8095</td>\n",
       "      <td>9.523810</td>\n",
       "    </tr>\n",
       "    <tr>\n",
       "      <th>hôpital</th>\n",
       "      <td>14.2857</td>\n",
       "      <td>30.7692</td>\n",
       "      <td>14.2857</td>\n",
       "      <td>0.000000</td>\n",
       "    </tr>\n",
       "    <tr>\n",
       "      <th>europe</th>\n",
       "      <td>28.5714</td>\n",
       "      <td>30.7692</td>\n",
       "      <td>9.52381</td>\n",
       "      <td>-19.047619</td>\n",
       "    </tr>\n",
       "    <tr>\n",
       "      <th>prix</th>\n",
       "      <td>35.7143</td>\n",
       "      <td>15.3846</td>\n",
       "      <td>19.0476</td>\n",
       "      <td>-16.666667</td>\n",
       "    </tr>\n",
       "    <tr>\n",
       "      <th>otan</th>\n",
       "      <td>14.2857</td>\n",
       "      <td>61.5385</td>\n",
       "      <td>9.52381</td>\n",
       "      <td>-4.761905</td>\n",
       "    </tr>\n",
       "    <tr>\n",
       "      <th>guerre</th>\n",
       "      <td>0</td>\n",
       "      <td>38.4615</td>\n",
       "      <td>38.0952</td>\n",
       "      <td>38.095238</td>\n",
       "    </tr>\n",
       "    <tr>\n",
       "      <th>smic</th>\n",
       "      <td>0</td>\n",
       "      <td>46.1538</td>\n",
       "      <td>33.3333</td>\n",
       "      <td>33.333333</td>\n",
       "    </tr>\n",
       "    <tr>\n",
       "      <th>macron</th>\n",
       "      <td>35.7143</td>\n",
       "      <td>69.2308</td>\n",
       "      <td>38.0952</td>\n",
       "      <td>2.380952</td>\n",
       "    </tr>\n",
       "    <tr>\n",
       "      <th>poutine</th>\n",
       "      <td>0</td>\n",
       "      <td>61.5385</td>\n",
       "      <td>66.6667</td>\n",
       "      <td>66.666667</td>\n",
       "    </tr>\n",
       "    <tr>\n",
       "      <th>russie</th>\n",
       "      <td>0</td>\n",
       "      <td>76.9231</td>\n",
       "      <td>66.6667</td>\n",
       "      <td>66.666667</td>\n",
       "    </tr>\n",
       "    <tr>\n",
       "      <th>ukraine</th>\n",
       "      <td>0</td>\n",
       "      <td>100</td>\n",
       "      <td>76.1905</td>\n",
       "      <td>76.190476</td>\n",
       "    </tr>\n",
       "    <tr>\n",
       "      <th>mélenchon</th>\n",
       "      <td>100</td>\n",
       "      <td>76.9231</td>\n",
       "      <td>100</td>\n",
       "      <td>0.000000</td>\n",
       "    </tr>\n",
       "  </tbody>\n",
       "</table>\n",
       "</div>"
      ],
      "text/plain": [
       "           Janvier  Février     Mars      Delta\n",
       "nucléaire        0  23.0769  23.8095  23.809524\n",
       "essence    14.2857  15.3846  23.8095   9.523810\n",
       "école      21.4286  15.3846  19.0476  -2.380952\n",
       "retraite   14.2857  15.3846  23.8095   9.523810\n",
       "hôpital    14.2857  30.7692  14.2857   0.000000\n",
       "europe     28.5714  30.7692  9.52381 -19.047619\n",
       "prix       35.7143  15.3846  19.0476 -16.666667\n",
       "otan       14.2857  61.5385  9.52381  -4.761905\n",
       "guerre           0  38.4615  38.0952  38.095238\n",
       "smic             0  46.1538  33.3333  33.333333\n",
       "macron     35.7143  69.2308  38.0952   2.380952\n",
       "poutine          0  61.5385  66.6667  66.666667\n",
       "russie           0  76.9231  66.6667  66.666667\n",
       "ukraine          0      100  76.1905  76.190476\n",
       "mélenchon      100  76.9231      100   0.000000"
      ]
     },
     "execution_count": 13,
     "metadata": {},
     "output_type": "execute_result"
    }
   ],
   "source": [
    "delta_taux = tv810.gen_delta(dtfsource=tfb, colfin=\"Mars\", coldeb=\"Janvier\", nomcol=\"Delta\")\n",
    "delta_taux.head(20)"
   ]
  }
 ],
 "metadata": {
  "interpreter": {
   "hash": "0a5331cb55ab7294c1c0f98062dab8e6b66a268d94e6b66c26b729f5ce3bba9e"
  },
  "kernelspec": {
   "display_name": "Python 3.8.5 ('base')",
   "language": "python",
   "name": "python3"
  },
  "language_info": {
   "codemirror_mode": {
    "name": "ipython",
    "version": 3
   },
   "file_extension": ".py",
   "mimetype": "text/x-python",
   "name": "python",
   "nbconvert_exporter": "python",
   "pygments_lexer": "ipython3",
   "version": "3.8.5"
  },
  "orig_nbformat": 4
 },
 "nbformat": 4,
 "nbformat_minor": 2
}
