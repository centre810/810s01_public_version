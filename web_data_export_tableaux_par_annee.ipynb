{
 "cells": [
  {
   "cell_type": "markdown",
   "metadata": {},
   "source": [
    "# 1. Introduction\n",
    "\n",
    "Fichier qui permet d'exporter les differentes donnees necessaires a la diffusion des graphs sur le web, via quelques fonctions qui les retraitent pour correspondre aux filtres attendus."
   ]
  },
  {
   "cell_type": "code",
   "execution_count": 1,
   "metadata": {},
   "outputs": [
    {
     "name": "stdout",
     "output_type": "stream",
     "text": [
      "Imported 32 channel data\n"
     ]
    }
   ],
   "source": [
    "import gen_dataset_810 as mod_810fr\n",
    "import matplotlib.pyplot as plt\n",
    "# importer datetime pour typer les donnees de dates des chaines et des videos\n",
    "import datetime\n",
    "import pandas as pd\n",
    "\n",
    "# Définition des dates limites pour les filtres de https://s01.810.fr\n",
    "datemin_2022 = datetime.datetime(2022, 1, 1, 0, 0, 0)\n",
    "datemax_2022 = datetime.datetime(2022, 4, 1, 0, 0, 0)\n",
    "datemin_2021 = datetime.datetime(2021, 1, 1, 0, 0, 0)\n",
    "\n",
    "# Récupération des fichiers générés à partir des API YouTube\n",
    "folder_candidats = './data_sources/stats_videos/2022_03_08/'\n",
    "# Création d'un datafram qui agrège les fichiers\n",
    "dt_candidats = mod_810fr.mb_ds()\n",
    "# Génération d'un dataframe de vidéos et d'un dataframe de chaîne (exemple dans les blocs qui suivent)\n",
    "videos_candidats_toutes, chaines_candidats_toutes  = dt_candidats.get_full_data_candidat(folder = folder_candidats)\n",
    "\n",
    "# Création du dataframe de vidéos, spécial 2022\n",
    "videos_candidats_2022 = videos_candidats_toutes[videos_candidats_toutes['dateVideo'] > datemin_2022]\n",
    "videos_candidats_2022 = videos_candidats_2022[videos_candidats_2022['dateVideo'] < datemax_2022]\n",
    "\n",
    "# Création du dataframe de vidéos, spécial 2021\n",
    "videos_candidats_2021 = videos_candidats_toutes[videos_candidats_toutes['dateVideo'] > datemin_2021]\n",
    "videos_candidats_2021 = videos_candidats_2021[videos_candidats_2021['dateVideo'] < datemin_2022]\n",
    "\n",
    "\n",
    "dossier_output = './data_output/'\n",
    "toptagsfolder_json = 'top-tags-json/'\n",
    "activityfolder_json = 'activity-json/'\n",
    "toptagsfolder_csv = 'top-tags-csv/'\n",
    "activityfolder_csv = 'activity-csv/'"
   ]
  },
  {
   "cell_type": "markdown",
   "metadata": {},
   "source": [
    "### 1.1 Affichage de la première ligne et du nombre de lignes totales\n"
   ]
  },
  {
   "cell_type": "code",
   "execution_count": 2,
   "metadata": {},
   "outputs": [
    {
     "data": {
      "text/html": [
       "<div>\n",
       "<style scoped>\n",
       "    .dataframe tbody tr th:only-of-type {\n",
       "        vertical-align: middle;\n",
       "    }\n",
       "\n",
       "    .dataframe tbody tr th {\n",
       "        vertical-align: top;\n",
       "    }\n",
       "\n",
       "    .dataframe thead th {\n",
       "        text-align: right;\n",
       "    }\n",
       "</style>\n",
       "<table border=\"1\" class=\"dataframe\">\n",
       "  <thead>\n",
       "    <tr style=\"text-align: right;\">\n",
       "      <th></th>\n",
       "      <th>dateRqt</th>\n",
       "      <th>candidat</th>\n",
       "      <th>parti</th>\n",
       "      <th>courant</th>\n",
       "      <th>chaine</th>\n",
       "      <th>titreVideo</th>\n",
       "      <th>vid_id</th>\n",
       "      <th>dateVideo</th>\n",
       "      <th>liste_tags</th>\n",
       "      <th>livebroadcast</th>\n",
       "      <th>vuesVideo</th>\n",
       "      <th>likesVideo</th>\n",
       "      <th>dislikesVideo</th>\n",
       "      <th>favVideo</th>\n",
       "      <th>comzVideo</th>\n",
       "      <th>dureeVideo</th>\n",
       "    </tr>\n",
       "  </thead>\n",
       "  <tbody>\n",
       "    <tr>\n",
       "      <th>0</th>\n",
       "      <td>2022/03/08</td>\n",
       "      <td>Alexandre Langlois</td>\n",
       "      <td>Refondation 2022</td>\n",
       "      <td>divers</td>\n",
       "      <td>Langlois Alexandre</td>\n",
       "      <td>Procès #Benalla jour 6 : Jardin des plantes 2è...</td>\n",
       "      <td>8ybnjmL7Jbw</td>\n",
       "      <td>2021-09-24 09:06:06</td>\n",
       "      <td>[#Benalla #Macron #France #Présidentielles #La...</td>\n",
       "      <td>none</td>\n",
       "      <td>2971</td>\n",
       "      <td>160</td>\n",
       "      <td>0</td>\n",
       "      <td>0</td>\n",
       "      <td>5</td>\n",
       "      <td>0 days 00:08:06</td>\n",
       "    </tr>\n",
       "  </tbody>\n",
       "</table>\n",
       "</div>"
      ],
      "text/plain": [
       "      dateRqt            candidat             parti courant  \\\n",
       "0  2022/03/08  Alexandre Langlois  Refondation 2022  divers   \n",
       "\n",
       "               chaine                                         titreVideo  \\\n",
       "0  Langlois Alexandre  Procès #Benalla jour 6 : Jardin des plantes 2è...   \n",
       "\n",
       "        vid_id           dateVideo  \\\n",
       "0  8ybnjmL7Jbw 2021-09-24 09:06:06   \n",
       "\n",
       "                                          liste_tags livebroadcast  vuesVideo  \\\n",
       "0  [#Benalla #Macron #France #Présidentielles #La...          none       2971   \n",
       "\n",
       "   likesVideo  dislikesVideo  favVideo  comzVideo      dureeVideo  \n",
       "0         160              0         0          5 0 days 00:08:06  "
      ]
     },
     "execution_count": 2,
     "metadata": {},
     "output_type": "execute_result"
    }
   ],
   "source": [
    "videos_candidats_toutes.head(1)"
   ]
  },
  {
   "cell_type": "code",
   "execution_count": 3,
   "metadata": {},
   "outputs": [
    {
     "data": {
      "text/plain": [
       "(4297, 16)"
      ]
     },
     "execution_count": 3,
     "metadata": {},
     "output_type": "execute_result"
    }
   ],
   "source": [
    "videos_candidats_toutes.shape"
   ]
  },
  {
   "cell_type": "code",
   "execution_count": 4,
   "metadata": {},
   "outputs": [
    {
     "data": {
      "text/html": [
       "<div>\n",
       "<style scoped>\n",
       "    .dataframe tbody tr th:only-of-type {\n",
       "        vertical-align: middle;\n",
       "    }\n",
       "\n",
       "    .dataframe tbody tr th {\n",
       "        vertical-align: top;\n",
       "    }\n",
       "\n",
       "    .dataframe thead th {\n",
       "        text-align: right;\n",
       "    }\n",
       "</style>\n",
       "<table border=\"1\" class=\"dataframe\">\n",
       "  <thead>\n",
       "    <tr style=\"text-align: right;\">\n",
       "      <th></th>\n",
       "      <th>dateRqt</th>\n",
       "      <th>candidat</th>\n",
       "      <th>parti</th>\n",
       "      <th>courant</th>\n",
       "      <th>chaine</th>\n",
       "      <th>dateCreationChaine</th>\n",
       "      <th>pays</th>\n",
       "      <th>categorieschaine</th>\n",
       "      <th>vuesChaine</th>\n",
       "      <th>abonnesChaine</th>\n",
       "      <th>nbVideosChaine</th>\n",
       "    </tr>\n",
       "  </thead>\n",
       "  <tbody>\n",
       "    <tr>\n",
       "      <th>0</th>\n",
       "      <td>2022/03/08</td>\n",
       "      <td>Alexandre Langlois</td>\n",
       "      <td>Refondation 2022</td>\n",
       "      <td>divers</td>\n",
       "      <td>Langlois Alexandre</td>\n",
       "      <td>2017-10-11</td>\n",
       "      <td>FR</td>\n",
       "      <td>[https://en.wikipedia.org/wiki/Society, https:...</td>\n",
       "      <td>16062</td>\n",
       "      <td>703</td>\n",
       "      <td>16</td>\n",
       "    </tr>\n",
       "  </tbody>\n",
       "</table>\n",
       "</div>"
      ],
      "text/plain": [
       "      dateRqt            candidat             parti courant  \\\n",
       "0  2022/03/08  Alexandre Langlois  Refondation 2022  divers   \n",
       "\n",
       "               chaine dateCreationChaine pays  \\\n",
       "0  Langlois Alexandre         2017-10-11   FR   \n",
       "\n",
       "                                    categorieschaine  vuesChaine  \\\n",
       "0  [https://en.wikipedia.org/wiki/Society, https:...       16062   \n",
       "\n",
       "   abonnesChaine  nbVideosChaine  \n",
       "0            703              16  "
      ]
     },
     "execution_count": 4,
     "metadata": {},
     "output_type": "execute_result"
    }
   ],
   "source": [
    "chaines_candidats_toutes.head(1)"
   ]
  },
  {
   "cell_type": "code",
   "execution_count": 5,
   "metadata": {},
   "outputs": [
    {
     "data": {
      "text/plain": [
       "(32, 11)"
      ]
     },
     "execution_count": 5,
     "metadata": {},
     "output_type": "execute_result"
    }
   ],
   "source": [
    "chaines_candidats_toutes.shape"
   ]
  },
  {
   "cell_type": "markdown",
   "metadata": {},
   "source": [
    "Maintenant que la liste officielle des candidats et candidates a été publiée, nous allons limiter notre traitement par courant, aux chaînes associées à la campagne de chaque candidat et candidate officel(le)\n",
    "\n",
    "liste_candidats = ['Eric Zemmour', 'Avec vous', 'Jean-Luc Mélenchon', 'Valérie Pécresse', 'Yannick Jadot', 'Anne Hidalgo']"
   ]
  },
  {
   "cell_type": "code",
   "execution_count": 6,
   "metadata": {},
   "outputs": [
    {
     "data": {
      "text/plain": [
       "array(['Alexandre Langlois', 'Emmanuel Macron', 'Nathalie Arthaud',\n",
       "       'Jean-Luc Mélenchon', 'Florian Philippot', 'Anasse Kazib',\n",
       "       'Charlotte Marchandise', 'Delphine Batho', 'Jacline Mouraud',\n",
       "       'Jean Lassalle', 'Jean-Frédéric Poisson', 'Denis Payre',\n",
       "       'Anne Hidalgo', 'Marine Le Pen', 'Valérie Pécresse',\n",
       "       'Philippe Furlan', 'Gildas Vieira', 'Michel Barnier',\n",
       "       'Nicolas Dupont-Aignan', 'Eric Piolle', 'Philippe Juvin',\n",
       "       'Stéphane Tauthui', 'Gérard Filoche', 'Yannick Jadot',\n",
       "       'Pierre Larrouturou', 'Eric Ciotti', 'Avec vous', 'Martin Rocca',\n",
       "       'Eric Zemmour'], dtype=object)"
      ]
     },
     "execution_count": 6,
     "metadata": {},
     "output_type": "execute_result"
    }
   ],
   "source": [
    "videos_candidats_toutes.candidat.unique()"
   ]
  },
  {
   "cell_type": "code",
   "execution_count": 7,
   "metadata": {},
   "outputs": [],
   "source": [
    "liste_chaines_candidats_officiels = [\"Nathalie Arthaud\", \"Jean-Luc Mélenchon\", \"Jean Lassalle\", \"Anne Hidalgo\", \"Marine Le Pen\", \"Valérie Pécresse\", \"Nicolas Dupont-Aignan\", \"Yannick Jadot\",\"Avec vous\", \"Eric Zemmour\"]\n",
    "\n",
    "# Filtrage du dtf de toutes les vidéos à partir de la liste officielle\n",
    "boolean_series_globale = videos_candidats_toutes.candidat.isin(liste_chaines_candidats_officiels)\n",
    "videos_candidats_toutes = videos_candidats_toutes[boolean_series_globale]\n",
    "\n",
    "# Filtrage des vidéos de l'année 2022\n",
    "boolean_series_2022 = videos_candidats_2022.candidat.isin(liste_chaines_candidats_officiels)\n",
    "videos_candidats_2022 = videos_candidats_2022[boolean_series_2022]\n",
    "\n",
    "# Filtrage des vidéos de l'année 2021\n",
    "boolean_series_2021 = videos_candidats_2021.candidat.isin(liste_chaines_candidats_officiels)\n",
    "videos_candidats_2021 = videos_candidats_2021[boolean_series_2021]"
   ]
  },
  {
   "cell_type": "markdown",
   "metadata": {},
   "source": [
    "# 2. Travail sur l'activité des courants et des candidats\n",
    "\n",
    "Suivi d'activité : nb vidéos ; likes ; vues ; durée\n",
    "\n",
    "## 2.1. Définition de nos fonctions de traitement des courants\n",
    "\n",
    "\n",
    "_N.B : la fonction de durée est déjà codée, mais nous ne l'utilisons pas. Elle donne le nombre de minutes cumulées_"
   ]
  },
  {
   "cell_type": "code",
   "execution_count": 8,
   "metadata": {},
   "outputs": [],
   "source": [
    "# Fonction utiles pour tous les tableaux ci-apres\n",
    "# Retourne les videos pour un mois donnees\n",
    "def vidz_filtree_par_mois(subdtf, mois_moins_un = 13, annee = 2022) : \n",
    "    if mois_moins_un == 13 :\n",
    "        print(\"mois invalide\")\n",
    "    elif mois_moins_un < 11 :\n",
    "        videos_du_mois = subdtf[subdtf['dateVideo'] > datetime.datetime(annee, (mois_moins_un+1), 1, 0, 0, 0)]\n",
    "        videos_du_mois = videos_du_mois[videos_du_mois['dateVideo'] < datetime.datetime(annee, (mois_moins_un+2), 1, 0, 0, 0)]\n",
    "    else :\n",
    "        videos_du_mois = subdtf[subdtf['dateVideo'] > datetime.datetime(annee, (mois_moins_un+1), 1, 0, 0, 0)]\n",
    "        videos_du_mois = videos_du_mois[videos_du_mois['dateVideo'] < datetime.datetime(annee + 1, 1, 1, 0, 0, 0)]\n",
    "    return videos_du_mois\n",
    "\n",
    "# Affichage standard : Filtre les données (dataframes) en fonctions des courants associés\n",
    "def un_dtf_par_courant(subdtf) :\n",
    "    videos_xd = subdtf[subdtf['courant'] == \"Extrême droite\"]\n",
    "    videos_reste = subdtf[subdtf['courant'] != \"Extrême droite\"]\n",
    "    videos_xg = subdtf[subdtf['courant'] == \"Extrême gauche\"]\n",
    "    videos_reste = videos_reste[videos_reste['courant'] != \"Extrême gauche\"]\n",
    "    videos_d = subdtf[subdtf['courant'] == \"droite\"]\n",
    "    videos_reste = videos_reste[videos_reste['courant'] != \"droite\"]\n",
    "    videos_g = subdtf[subdtf['courant'] == \"gauche\"]\n",
    "    videos_reste = videos_reste[videos_reste['courant'] != \"gauche\"]\n",
    "    videos_c = subdtf[subdtf['courant'] == \"centre\"]\n",
    "    # Ca va sûrement faire rager, mais dans le code, les chaîne d'Emmanuel Macron sont associées au courant \"Centre\", en tant que dsecendant du Modem\n",
    "    # Dans nos rapports HTML, on fait généralement référence à la \"majorité\"\n",
    "    videos_reste = videos_reste[videos_reste['courant'] != \"centre\"]\n",
    "    videos_v = subdtf[subdtf['courant'] == \"vert\"]\n",
    "    videos_reste = videos_reste[videos_reste['courant'] != \"vert\"]\n",
    "    return videos_xd, videos_xg, videos_d, videos_g, videos_c, videos_v, videos_reste\n",
    "\n",
    "# Permet de retourner differentes indicateurs relartifs a un DTF\n",
    "def _valeur_recherchee(indicateur, inputdtf) :\n",
    "    if indicateur == \"duree\" :\n",
    "        resultat = inputdtf[\"dureeVideo\"].sum().total_seconds() / 60\n",
    "    elif indicateur == 'vues' :\n",
    "        resultat = inputdtf[\"vuesVideo\"].sum()\n",
    "    elif indicateur == \"likes\" :\n",
    "        resultat = inputdtf[\"likesVideo\"].sum()\n",
    "    elif indicateur == \"comz\" :\n",
    "        resultat = inputdtf['comzVideo'].sum()\n",
    "    else :\n",
    "        # Par defaut on retourne le nombre de lignes du DTF, i.e nbVideos\n",
    "        resultat = inputdtf.shape[0]\n",
    "\n",
    "    return resultat\n",
    "\n",
    "# Permet de dumper nos tableaux dans le format attendu pour notre site https://s01.810.fr\n",
    "def dump_synthese_courants(dtf_synth_courant, nomfichier) :\n",
    "    liste_a_dumper = []\n",
    "    for index, row in dtf_synth_courant.iterrows():\n",
    "        liste_a_dumper.append({\"\\\"Mois\\\"\" : \"\\\"\"+ str(row[\"Mois\"]) + \"\\\"\", \"\\\"Majorité\\\"\" : row[\"Majorite\"], \"\\\"Droite\\\"\" : row[\"Droite\"], \"\\\"Gauche\\\"\" : row[\"Gauche\"], \"\\\"Verts\\\"\" : row[\"Verts\"], \"\\\"Extrême Droite\\\"\" : row[\"Extreme droite\"], \"\\\"Extrême Gauche\\\"\" : row[\"Extreme gauche\"]})\n",
    "\n",
    "    liste_en_geustr = str(liste_a_dumper)\n",
    "    liste_en_geustr = liste_en_geustr.replace(\"'\",\"\")\n",
    "    with open(nomfichier, \"w\") as text_file:\n",
    "        text_file.write(liste_en_geustr)\n",
    "\n",
    "    return\n",
    "\n",
    "# Affiche un suivi mensuel de l'activité des courants sur YouTube\n",
    "# i.e : nombre de vidéos postées par mois par les différentes chaînes\n",
    "#--------------------------------------------------------------------\n",
    "def ligne_suivi_mensuelle(subdtf_videos, indicateur = \"nb videos\", annee = 2022) :\n",
    "\n",
    "    liste_valeurs = []\n",
    "    for i in range(12) :  \n",
    "        videos_du_mois = vidz_filtree_par_mois(subdtf = subdtf_videos, mois_moins_un = i, annee=annee)\n",
    "        valeur_recherchee = _valeur_recherchee(indicateur=indicateur, inputdtf=videos_du_mois)\n",
    "        liste_valeurs.append(valeur_recherchee)\n",
    "    # Creation d'un dictionnaire temporaire pour pouvoir transformer mes deux series en dataFrame\n",
    "    \n",
    "    return liste_valeurs\n",
    "\n",
    "# Permet de créer un dataframe global, avec les indicateurs relatifs aux différents courants\n",
    "# On peut ainsi dumper le dataframe dans un CSV, pour pouvoir l'utiliser dans \"datawrapper.de\",\n",
    "#  qui nous permettra d'afficher des graphs web sur le site https://810.fr\n",
    "def make_synthese_nbvideo_par_courant(dtsource, indicateur = \"nb videos\", annee = 2022) :\n",
    "    videos_xd, videos_xg, videos_d, videos_g, videos_c, videos_v, videos_reste = un_dtf_par_courant(subdtf=dtsource)\n",
    "    # CREATION AXE ABSCISSE\n",
    "    x_date = ['Janvier', 'Février', 'Mars', 'Avril', 'Mai', 'Juin', 'Juillet', 'Aout', 'Septembre', 'Octobre', 'Novembre', 'Décembre']\n",
    "\n",
    "    nomcourant_xd = \"Extreme droite\"\n",
    "    lst_res_xd = ligne_suivi_mensuelle(subdtf_videos=videos_xd, indicateur = indicateur, annee = annee)\n",
    "    nomcourant_xg = \"Extreme gauche\"\n",
    "    lst_res_xg = ligne_suivi_mensuelle(subdtf_videos=videos_xg, indicateur = indicateur, annee = annee)\n",
    "    nomcourant_d = \"Droite\"\n",
    "    lst_res_d = ligne_suivi_mensuelle(subdtf_videos=videos_d, indicateur = indicateur, annee = annee)\n",
    "    nomcourant_g = \"Gauche\"\n",
    "    lst_res_g = ligne_suivi_mensuelle(subdtf_videos=videos_g, indicateur = indicateur, annee = annee)\n",
    "    nomcourant_c = \"Majorite\"\n",
    "    lst_res_c = ligne_suivi_mensuelle(subdtf_videos=videos_c, indicateur = indicateur, annee = annee)\n",
    "    nomcourant_v = \"Verts\"\n",
    "    lst_res_v = ligne_suivi_mensuelle(subdtf_videos=videos_v, indicateur = indicateur, annee = annee)\n",
    "\n",
    "\n",
    "    tmp_d_globalresults = {'Mois' : x_date, nomcourant_xd : lst_res_xd, nomcourant_xg : lst_res_xg, nomcourant_d : lst_res_d, nomcourant_g : lst_res_g, nomcourant_c : lst_res_c, nomcourant_v : lst_res_v}\n",
    "    dtf_globalresults = pd.DataFrame(tmp_d_globalresults)\n",
    "\n",
    "    return dtf_globalresults\n",
    "\n",
    "########################################################################\n",
    "#   Définition de fonctions similaires mais pour faire les dump de \n",
    "#       fichiers relatifs aux candidats et candidates\n",
    "########################################################################\n",
    "def dump_synthese_candidats_v0(dtf_synth_candidat, nomfichier) :\n",
    "    liste_a_dumper = []\n",
    "    cnt = 0\n",
    "    for index, row in dtf_synth_candidat.iterrows():\n",
    "        liste_a_dumper.append({\"\\\"indexMois\\\"\" : \"\\\"\"+ str(cnt) + \"\\\"\", \"\\\"mois\\\"\" : \"\\\"\"+ str(row[\"Mois\"]) + \"\\\"\", \"\\\"zemmour\\\"\" : row[\"Eric Zemmour\"], \"\\\"macron\\\"\" : row[\"Emmanuel Macron\"], \"\\\"melenchon\\\"\" : row[\"Jean-Luc Mélenchon\"], \"\\\"pecresse\\\"\" : row[\"Valérie Pécresse\"], \"\\\"jadot\\\"\" : row[\"Yannick Jadot\"], \"\\\"hidalgo\\\"\" : row[\"Anne Hidalgo\"], \"\\\"lassalle\\\"\" : row[\"Jean Lassalle\"]})\n",
    "        cnt += 1\n",
    "    liste_en_geustr = str(liste_a_dumper)\n",
    "    liste_en_geustr = liste_en_geustr.replace(\"'\",\"\")\n",
    "    with open(nomfichier, \"w\") as text_file:\n",
    "        text_file.write(liste_en_geustr)\n",
    "\n",
    "    return\n",
    "\n",
    "def make_synthese_nbvideo_par_candidat(dtsource, indicateur = \"nb videos\", liste_candidats =[], annee = 2022) :\n",
    "    # CREATION AXE ABSCISSE\n",
    "    x_date = ['Janvier', 'Février', 'Mars', 'Avril', 'Mai', 'Juin', 'Juillet', 'Aout', 'Septembre', 'Octobre', 'Novembre', 'Décembre']\n",
    "\n",
    "    tmp_d_globalresults = {'Mois' : x_date}\n",
    "\n",
    "    for candidat in liste_candidats :\n",
    "        subdtf_candidat = dtsource[dtsource['candidat'] == candidat]\n",
    "        performance_candidat = ligne_suivi_mensuelle(subdtf_videos=subdtf_candidat, indicateur = indicateur, annee=annee)\n",
    "        tmp_d_globalresults[candidat] = performance_candidat\n",
    "\n",
    "    dtf_globalresults = pd.DataFrame(tmp_d_globalresults)\n",
    "\n",
    "    return dtf_globalresults"
   ]
  },
  {
   "cell_type": "markdown",
   "metadata": {},
   "source": [
    "## 2.2. Export des suivis d'activité mensuelle par courant"
   ]
  },
  {
   "cell_type": "code",
   "execution_count": 9,
   "metadata": {},
   "outputs": [],
   "source": [
    "# Generation des fichiers de synthese des courants\n",
    "# On les dump dans les différents dossiers de \"data_output/2022/\"\n",
    "\n",
    "###############################\n",
    "# Annee 2022\n",
    "###############################\n",
    "# Dump nombre de vidéos\n",
    "dtf_global_nbvids = make_synthese_nbvideo_par_courant(videos_candidats_2022, indicateur=\"nb videos\", annee= 2022)\n",
    "dump_synthese_courants(dtf_synth_courant=dtf_global_nbvids, nomfichier=dossier_output + activityfolder_json +'synthese_nbvideos_courant_2022.json')\n",
    "\n",
    "# Dump nombre de likes\n",
    "dtf_global_likes = make_synthese_nbvideo_par_courant(videos_candidats_2022, indicateur=\"likes\", annee= 2022)\n",
    "dump_synthese_courants(dtf_synth_courant=dtf_global_likes, nomfichier=dossier_output + activityfolder_json + 'synthese_likes_courant_2022.json')\n",
    "\n",
    "# Dump nombre de vues\n",
    "dtf_global_vues = make_synthese_nbvideo_par_courant(videos_candidats_2022, indicateur=\"vues\", annee= 2022)\n",
    "dump_synthese_courants(dtf_synth_courant=dtf_global_vues, nomfichier=dossier_output + activityfolder_json + 'synthese_vues_courant_2022.json')\n",
    "\n",
    "# Dumper les CSV pour datawrapper.de\n",
    "dtf_global_nbvids.to_csv(dossier_output + activityfolder_csv + 'synthese_nbvideos_courant_2022.csv')\n",
    "dtf_global_likes.to_csv(dossier_output + activityfolder_csv + 'synthese_likes_courant_2022.csv')\n",
    "dtf_global_vues.to_csv(dossier_output + activityfolder_csv + 'synthese_vues_courant_2022.csv')\n",
    "\n",
    "\n",
    "###############################\n",
    "# Annee 2021\n",
    "###############################\n",
    "# Dump nombre de vidéos\n",
    "dtf_global_nbvids = make_synthese_nbvideo_par_courant(videos_candidats_2021, indicateur=\"nb videos\", annee= 2021)\n",
    "dump_synthese_courants(dtf_synth_courant=dtf_global_nbvids, nomfichier=dossier_output + activityfolder_json +'synthese_nbvideos_courant_2021.json')\n",
    "\n",
    "# Dump nombre de likes\n",
    "dtf_global_likes = make_synthese_nbvideo_par_courant(videos_candidats_2021, indicateur=\"likes\", annee= 2021)\n",
    "dump_synthese_courants(dtf_synth_courant=dtf_global_likes, nomfichier=dossier_output + activityfolder_json + 'synthese_likes_courant_2021.json')\n",
    "\n",
    "# Dump nombre de vues\n",
    "dtf_global_vues = make_synthese_nbvideo_par_courant(videos_candidats_2021, indicateur=\"vues\", annee= 2021)\n",
    "dump_synthese_courants(dtf_synth_courant=dtf_global_vues, nomfichier=dossier_output + activityfolder_json + 'synthese_vues_courant_2021.json')\n",
    "\n",
    "# Dumper les CSV pour datawrapper.de\n",
    "dtf_global_nbvids.to_csv(dossier_output + activityfolder_csv + 'synthese_nbvideos_courant_2021.csv')\n",
    "dtf_global_likes.to_csv(dossier_output + activityfolder_csv + 'synthese_likes_courant_2021.csv')\n",
    "dtf_global_vues.to_csv(dossier_output + activityfolder_csv + 'synthese_vues_courant_2021.csv')\n"
   ]
  },
  {
   "cell_type": "markdown",
   "metadata": {},
   "source": [
    "## 2.3. Export des suivis d'activite mensuelle des candidats et candidates"
   ]
  },
  {
   "cell_type": "code",
   "execution_count": 10,
   "metadata": {},
   "outputs": [],
   "source": [
    "liste_candidats = ['Eric Zemmour', 'Avec vous', 'Jean-Luc Mélenchon', 'Valérie Pécresse', 'Yannick Jadot', 'Anne Hidalgo', \"Jean Lassalle\"]"
   ]
  },
  {
   "cell_type": "code",
   "execution_count": 11,
   "metadata": {},
   "outputs": [],
   "source": [
    "###############################\n",
    "# Annee 2022\n",
    "###############################\n",
    "# Dump nombre de vidéos\n",
    "dtf_candidat_perf = make_synthese_nbvideo_par_candidat(dtsource=videos_candidats_2022, indicateur = \"nb videos\", liste_candidats =liste_candidats, annee=2022)\n",
    "dtf_candidat_perf = dtf_candidat_perf.rename(columns={'Avec vous': 'Emmanuel Macron'})\n",
    "dump_synthese_candidats_v0(dtf_synth_candidat=dtf_candidat_perf, nomfichier=dossier_output + activityfolder_json + 'synthese_nbvideos_candidats_2022.json')\n",
    "dtf_candidat_perf.to_csv(dossier_output + activityfolder_csv + 'synthese_nbvideos_candidats_2022.csv')\n",
    "\n",
    "# Dump likes\n",
    "dtf_candidat_perf = make_synthese_nbvideo_par_candidat(dtsource=videos_candidats_2022, indicateur = \"likes\", liste_candidats =liste_candidats, annee=2022)\n",
    "dtf_candidat_perf = dtf_candidat_perf.rename(columns={'Avec vous': 'Emmanuel Macron'})\n",
    "dump_synthese_candidats_v0(dtf_synth_candidat=dtf_candidat_perf, nomfichier=dossier_output + activityfolder_json + 'synthese_likes_candidats_2022.json')\n",
    "dtf_candidat_perf.to_csv(dossier_output + activityfolder_csv + 'synthese_likes_candidats_2022.csv')\n",
    "\n",
    "# Dump vues\n",
    "dtf_candidat_perf = make_synthese_nbvideo_par_candidat(dtsource=videos_candidats_2022, indicateur = \"vues\", liste_candidats =liste_candidats, annee=2022)\n",
    "dtf_candidat_perf = dtf_candidat_perf.rename(columns={'Avec vous': 'Emmanuel Macron'})\n",
    "dump_synthese_candidats_v0(dtf_synth_candidat=dtf_candidat_perf, nomfichier=dossier_output + activityfolder_json +'synthese_vues_candidats_2022.json')\n",
    "dtf_candidat_perf.to_csv(dossier_output + activityfolder_csv + 'synthese_vues_candidats_2022.csv')\n",
    "\n",
    "\n",
    "###############################\n",
    "# Annee 2021\n",
    "###############################\n",
    "# Dump nombre de vidéos\n",
    "dtf_candidat_perf = make_synthese_nbvideo_par_candidat(dtsource=videos_candidats_2021, indicateur = \"nb videos\", liste_candidats =liste_candidats, annee=2021)\n",
    "dtf_candidat_perf = dtf_candidat_perf.rename(columns={'Avec vous': 'Emmanuel Macron'})\n",
    "dump_synthese_candidats_v0(dtf_synth_candidat=dtf_candidat_perf, nomfichier=dossier_output + activityfolder_json + 'synthese_nbvideos_candidats_2021.json')\n",
    "dtf_candidat_perf.to_csv(dossier_output + activityfolder_csv + 'synthese_nbvideos_candidats_2021.csv')\n",
    "\n",
    "# Dump likes\n",
    "dtf_candidat_perf = make_synthese_nbvideo_par_candidat(dtsource=videos_candidats_2021, indicateur = \"likes\", liste_candidats =liste_candidats, annee=2021)\n",
    "dtf_candidat_perf = dtf_candidat_perf.rename(columns={'Avec vous': 'Emmanuel Macron'})\n",
    "dump_synthese_candidats_v0(dtf_synth_candidat=dtf_candidat_perf, nomfichier=dossier_output + activityfolder_json + 'synthese_likes_candidats_2021.json')\n",
    "dtf_candidat_perf.to_csv(dossier_output + activityfolder_csv + 'synthese_likes_candidats_2021.csv')\n",
    "\n",
    "# Dump vues\n",
    "dtf_candidat_perf = make_synthese_nbvideo_par_candidat(dtsource=videos_candidats_2021, indicateur = \"vues\", liste_candidats =liste_candidats, annee=2021)\n",
    "dtf_candidat_perf = dtf_candidat_perf.rename(columns={'Avec vous': 'Emmanuel Macron'})\n",
    "dump_synthese_candidats_v0(dtf_synth_candidat=dtf_candidat_perf, nomfichier=dossier_output + activityfolder_json +'synthese_vues_candidats_2021.json')\n",
    "dtf_candidat_perf.to_csv(dossier_output + activityfolder_csv + 'synthese_vues_candidats_2021.csv')\n"
   ]
  },
  {
   "cell_type": "markdown",
   "metadata": {},
   "source": [
    "# 3. Travail sur les Tags\n",
    "\n",
    "On va dumper un CSV par mois, qu'on utilisera sur le site https://810.fr pour faire des articles\n",
    "\n",
    "On va dumper un json sur toute l'année 2022 pour le publier sur https://s01.810.fr"
   ]
  },
  {
   "cell_type": "code",
   "execution_count": 12,
   "metadata": {},
   "outputs": [],
   "source": [
    "debutjanv22 =  datetime.datetime(2022,1,1,0,0,0)\n",
    "debutjanv23 =  datetime.datetime(2023,1,1,0,0,0)\n",
    "videos_candidats_2022_full = videos_candidats_toutes[videos_candidats_toutes['dateVideo'] > debutjanv22]\n",
    "videos_candidats_2022_full = videos_candidats_2022_full[videos_candidats_2022_full['dateVideo'] < debutjanv23]"
   ]
  },
  {
   "cell_type": "markdown",
   "metadata": {},
   "source": [
    "## 3.1. Définition des fonctions nécessaires"
   ]
  },
  {
   "cell_type": "code",
   "execution_count": 13,
   "metadata": {},
   "outputs": [],
   "source": [
    "# Dumper un fichier json dans le format attendu par https://s01.810.fr\n",
    "def dump_tags_json(toptags, nomfichier) :\n",
    "    \n",
    "    liste_a_dumper = []\n",
    "\n",
    "    for i, v in toptags.items():\n",
    "        text_line = {\"\\\"label\\\"\" : \"\\\"\" + i + \"\\\"\", \"\\\"value\\\"\" : v}\n",
    "        liste_a_dumper.append(text_line)\n",
    "    \n",
    "    liste_en_geustr = str(liste_a_dumper)\n",
    "    liste_en_geustr = liste_en_geustr.replace(\"'\",\"\")\n",
    "    with open(nomfichier, \"w\") as text_file:\n",
    "        text_file.write(liste_en_geustr)\n",
    "\n",
    "    return\n",
    "\n",
    "# Liste les top tags à partir d'un DTF de vidéos passé en paramètre, \"dtfv\"\n",
    "# Un paramètre \"liste_exceptions\" nous permet de filtrer les tags dont nous ne voudrions pas.\n",
    "def liste_top_tags_de_chaines (dtfv, colonne = '', valeur = '', top = 5, titre = '', color = '', liste_exceptions = []) :\n",
    "    if valeur == '' :\n",
    "        videos_chaine = dtfv\n",
    "    else : \n",
    "        videos_chaine = dtfv[dtfv[colonne] == valeur]\n",
    "    toptags = mod_810fr.listcol_to_1dcol(videos_chaine['liste_tags']).value_counts()\n",
    "    # print(\"Taille toptags avant except : \" + str(toptags.size))\n",
    "    if liste_exceptions != [] :\n",
    "        for exception in liste_exceptions :\n",
    "            try:\n",
    "                toptags = toptags.drop(exception)\n",
    "                # print(\"Taille toptags après except : \" + str(toptags.size))\n",
    "            except :\n",
    "                print(\"impossible de dropper \"+ exception)\n",
    "    toptags = toptags.sort_values(ascending = False).head(top)\n",
    "    toptags = toptags.sort_values(ascending = True)\n",
    "    if len(toptags > 0) :\n",
    "        if color == '' :\n",
    "            plt.barh(toptags.index,toptags.values)\n",
    "        else :\n",
    "            l_color = [color] * top\n",
    "            plt.barh(toptags.index,toptags.values, color = l_color)\n",
    "        if titre == '' :\n",
    "            plt.title('Top ' + str(top) + ' tags de '+valeur)\n",
    "        else :\n",
    "            plt.title(titre)\n",
    "        plt.ylabel('Tags')\n",
    "        plt.xlabel(\"Nombre d'occurrences\")\n",
    "        plt.show()\n",
    "    else :\n",
    "        print(\"Aucun tags trouvés sur les vidéos sélectionnées\")\n",
    "    return toptags"
   ]
  },
  {
   "cell_type": "markdown",
   "metadata": {},
   "source": [
    "## 3.2. Export des données par courants\n",
    "\n",
    "### 3.2.1. Extrême droite"
   ]
  },
  {
   "cell_type": "code",
   "execution_count": 14,
   "metadata": {},
   "outputs": [
    {
     "data": {
      "image/png": "[encoded data removed]",
      "text/plain": [
       "<Figure size 432x288 with 1 Axes>"
      ]
     },
     "metadata": {
      "needs_background": "light"
     },
     "output_type": "display_data"
    }
   ],
   "source": [
    "# Année 2022\n",
    "subdtf_videos = videos_candidats_2022_full\n",
    "videos_xd_22, videos_xg_22, videos_d_22, videos_g_22, videos_c_22, videos_v_22, videos_reste_22 = un_dtf_par_courant(subdtf=subdtf_videos)\n",
    "top_tags = liste_top_tags_de_chaines (dtfv = videos_xd_22, colonne = 'courant', valeur = 'Extrême droite', top = 10, titre = '', color = \"#073763\", liste_exceptions = ['Debout La France', 'Nicolas Dupont-Aignan', 'zemmour', 'zemmour 2022', 'Z00Z'])\n",
    "# Dump des fichiers\n",
    "dump_tags_json(toptags=top_tags, nomfichier= dossier_output + toptagsfolder_json + \"top_tags_extreme_droite_2022.json\")\n",
    "top_tags.to_csv(dossier_output + toptagsfolder_csv + 'top_tags_extreme_droite_2022.csv')"
   ]
  },
  {
   "cell_type": "code",
   "execution_count": 15,
   "metadata": {},
   "outputs": [
    {
     "data": {
      "image/png": "[encoded data removed]",
      "text/plain": [
       "<Figure size 432x288 with 1 Axes>"
      ]
     },
     "metadata": {
      "needs_background": "light"
     },
     "output_type": "display_data"
    }
   ],
   "source": [
    "# Année 2021\n",
    "subdtf_videos = videos_candidats_2021\n",
    "videos_xd_21, videos_xg_21, videos_d_21, videos_g_21, videos_c_21, videos_v_21, videos_reste_21 = un_dtf_par_courant(subdtf=subdtf_videos)\n",
    "top_tags = liste_top_tags_de_chaines (dtfv = videos_xd_21, colonne = 'courant', valeur = 'Extrême droite', top = 10, titre = '', color = \"#073763\", liste_exceptions = ['Debout La France', 'Nicolas Dupont-Aignan', 'zemmour', 'zemmour 2022', 'Z00Z'])\n",
    "# Dump des fichiers\n",
    "dump_tags_json(toptags=top_tags, nomfichier= dossier_output + toptagsfolder_json + \"top_tags_extreme_droite_2021.json\")\n",
    "top_tags.to_csv(dossier_output + toptagsfolder_csv + 'top_tags_extreme_droite_2021.csv')"
   ]
  },
  {
   "cell_type": "markdown",
   "metadata": {},
   "source": [
    "### 3.2.2. Extrême gauche"
   ]
  },
  {
   "cell_type": "code",
   "execution_count": 16,
   "metadata": {},
   "outputs": [
    {
     "data": {
      "image/png": "[encoded data removed]",
      "text/plain": [
       "<Figure size 432x288 with 1 Axes>"
      ]
     },
     "metadata": {
      "needs_background": "light"
     },
     "output_type": "display_data"
    }
   ],
   "source": [
    "# Année 2022\n",
    "top_tags = liste_top_tags_de_chaines (dtfv = videos_xg_22, colonne = 'courant', valeur = 'Extrême gauche', top = 10, titre = '', color = \"#cc0000\", liste_exceptions = ['Nathalie', 'Lutte', 'ouvrière', 'Arthaud', 'LO', 'mélenchon'])\n",
    "dump_tags_json(toptags=top_tags, nomfichier= dossier_output + toptagsfolder_json + \"top_tags_extreme_gauche_2022.json\")\n",
    "top_tags.to_csv(dossier_output + toptagsfolder_csv + 'top_tags_extreme_gauche_2022.csv')"
   ]
  },
  {
   "cell_type": "code",
   "execution_count": 17,
   "metadata": {},
   "outputs": [
    {
     "data": {
      "image/png": "[encoded data removed]",
      "text/plain": [
       "<Figure size 432x288 with 1 Axes>"
      ]
     },
     "metadata": {
      "needs_background": "light"
     },
     "output_type": "display_data"
    }
   ],
   "source": [
    "# Année 2021\n",
    "top_tags = liste_top_tags_de_chaines (dtfv = videos_xg_21, colonne = 'courant', valeur = 'Extrême gauche', top = 10, titre = '', color = \"#cc0000\", liste_exceptions = ['Nathalie', 'Lutte', 'ouvrière', 'Arthaud', 'LO', 'mélenchon'])\n",
    "dump_tags_json(toptags=top_tags, nomfichier= dossier_output + toptagsfolder_json + \"top_tags_extreme_gauche_2021.json\")\n",
    "top_tags.to_csv(dossier_output + toptagsfolder_csv + 'top_tags_extreme_gauche_2021.csv')"
   ]
  },
  {
   "cell_type": "markdown",
   "metadata": {},
   "source": [
    "### 3.2.3. Droite"
   ]
  },
  {
   "cell_type": "code",
   "execution_count": 18,
   "metadata": {},
   "outputs": [
    {
     "data": {
      "image/png": "[encoded data removed]",
      "text/plain": [
       "<Figure size 432x288 with 1 Axes>"
      ]
     },
     "metadata": {
      "needs_background": "light"
     },
     "output_type": "display_data"
    }
   ],
   "source": [
    "# Année 2022\n",
    "top_tags = liste_top_tags_de_chaines (dtfv = videos_d_22, colonne = 'courant', valeur = 'droite', top = 10, titre = '', color = \"#3c78d8\")\n",
    "dump_tags_json(toptags=top_tags, nomfichier=dossier_output + toptagsfolder_json + \"top_tags_droite_2022.json\")\n",
    "top_tags.to_csv(dossier_output + toptagsfolder_csv + 'top_tags_droite_2022.csv')"
   ]
  },
  {
   "cell_type": "code",
   "execution_count": 19,
   "metadata": {},
   "outputs": [
    {
     "data": {
      "image/png": "[encoded data removed]",
      "text/plain": [
       "<Figure size 432x288 with 1 Axes>"
      ]
     },
     "metadata": {
      "needs_background": "light"
     },
     "output_type": "display_data"
    }
   ],
   "source": [
    "# Année 2021\n",
    "top_tags = liste_top_tags_de_chaines (dtfv = videos_d_21, colonne = 'courant', valeur = 'droite', top = 10, titre = '', color = \"#3c78d8\")\n",
    "dump_tags_json(toptags=top_tags, nomfichier=dossier_output + toptagsfolder_json + \"top_tags_droite_2021.json\")\n",
    "top_tags.to_csv(dossier_output + toptagsfolder_csv + 'top_tags_droite_2021.csv')"
   ]
  },
  {
   "cell_type": "markdown",
   "metadata": {},
   "source": [
    "### 3.2.4. Gauche"
   ]
  },
  {
   "cell_type": "code",
   "execution_count": 20,
   "metadata": {},
   "outputs": [
    {
     "name": "stdout",
     "output_type": "stream",
     "text": [
      "Aucun tags trouvés sur les vidéos sélectionnées\n"
     ]
    }
   ],
   "source": [
    "# Année 2022\n",
    "top_tags = liste_top_tags_de_chaines (dtfv = videos_g_22, colonne = 'courant', valeur = 'gauche', top = 10, titre = '', color = \"#e6a3bf\")\n",
    "dump_tags_json(toptags=top_tags, nomfichier=dossier_output + toptagsfolder_json + \"top_tags_gauche_2022.json\")\n",
    "top_tags.to_csv(dossier_output + toptagsfolder_csv + 'top_tags_gauche_2022.csv')"
   ]
  },
  {
   "cell_type": "code",
   "execution_count": 21,
   "metadata": {},
   "outputs": [
    {
     "name": "stdout",
     "output_type": "stream",
     "text": [
      "Aucun tags trouvés sur les vidéos sélectionnées\n"
     ]
    }
   ],
   "source": [
    "# Année 2021\n",
    "top_tags = liste_top_tags_de_chaines (dtfv = videos_g_21, colonne = 'courant', valeur = 'gauche', top = 10, titre = '', color = \"#e6a3bf\")\n",
    "dump_tags_json(toptags=top_tags, nomfichier=dossier_output + toptagsfolder_json + \"top_tags_gauche_2021.json\")\n",
    "top_tags.to_csv(dossier_output + toptagsfolder_csv + 'top_tags_gauche_2021.csv')"
   ]
  },
  {
   "cell_type": "markdown",
   "metadata": {},
   "source": [
    "### 3.2.5. Verts"
   ]
  },
  {
   "cell_type": "code",
   "execution_count": 22,
   "metadata": {},
   "outputs": [
    {
     "name": "stdout",
     "output_type": "stream",
     "text": [
      "impossible de dropper Les Verts\n"
     ]
    },
    {
     "data": {
      "image/png": "[encoded data removed]",
      "text/plain": [
       "<Figure size 432x288 with 1 Axes>"
      ]
     },
     "metadata": {
      "needs_background": "light"
     },
     "output_type": "display_data"
    }
   ],
   "source": [
    "# Année 2022\n",
    "top_tags = liste_top_tags_de_chaines (dtfv = videos_v_22, colonne = 'courant', valeur = 'vert', top = 10, titre = '', color = \"#6aa84f\", liste_exceptions=['jadot 2022', 'yannick jadot', 'Les Verts'])\n",
    "dump_tags_json(toptags=top_tags, nomfichier=dossier_output + toptagsfolder_json + \"top_tags_verts_2022.json\")\n",
    "top_tags.to_csv(dossier_output + toptagsfolder_csv + 'top_tags_verts_2022.csv')"
   ]
  },
  {
   "cell_type": "code",
   "execution_count": 23,
   "metadata": {},
   "outputs": [
    {
     "data": {
      "image/png": "[encoded data removed]",
      "text/plain": [
       "<Figure size 432x288 with 1 Axes>"
      ]
     },
     "metadata": {
      "needs_background": "light"
     },
     "output_type": "display_data"
    }
   ],
   "source": [
    "# Année 2021\n",
    "# On va filtrer pas mal de tags, car il y en a plusieurs qui ne sont pas très parlant\n",
    "top_tags = liste_top_tags_de_chaines (dtfv = videos_v_21, colonne = 'courant', valeur = 'vert', top = 10, titre = '', color = \"#6aa84f\", liste_exceptions=['jadot 2022', 'yannick jadot', 'Europe Écologie Les Verts', 'Les Verts', '2022lecologie.fr', 'candidature écologie', 'Yannick Jadot 2022', 'Q&A', 'écologistes', 'Jadot2022', 'Jadot 2022'])\n",
    "dump_tags_json(toptags=top_tags, nomfichier=dossier_output + toptagsfolder_json + \"top_tags_verts_2021.json\")\n",
    "top_tags.to_csv(dossier_output + toptagsfolder_csv + 'top_tags_verts_2021.csv')"
   ]
  },
  {
   "cell_type": "markdown",
   "metadata": {},
   "source": [
    "#### Bonus : Dumper tous les tags des verts\n",
    "\n",
    "On a remarqué que certains tags des verts étaient très surprenants. On a donc fait une fonction qui permet de récupérer ces tags"
   ]
  },
  {
   "cell_type": "code",
   "execution_count": 24,
   "metadata": {},
   "outputs": [
    {
     "data": {
      "text/html": [
       "<div>\n",
       "<style scoped>\n",
       "    .dataframe tbody tr th:only-of-type {\n",
       "        vertical-align: middle;\n",
       "    }\n",
       "\n",
       "    .dataframe tbody tr th {\n",
       "        vertical-align: top;\n",
       "    }\n",
       "\n",
       "    .dataframe thead th {\n",
       "        text-align: right;\n",
       "    }\n",
       "</style>\n",
       "<table border=\"1\" class=\"dataframe\">\n",
       "  <thead>\n",
       "    <tr style=\"text-align: right;\">\n",
       "      <th></th>\n",
       "      <th>NomO</th>\n",
       "      <th>dateP</th>\n",
       "      <th>hashtag</th>\n",
       "      <th>nbLikes</th>\n",
       "    </tr>\n",
       "  </thead>\n",
       "  <tbody>\n",
       "    <tr>\n",
       "      <th>0</th>\n",
       "      <td>YANNICK JADOT FACE À BFM TV</td>\n",
       "      <td>2022-02-16 12:04:04</td>\n",
       "      <td>#jadot2022</td>\n",
       "      <td>244</td>\n",
       "    </tr>\n",
       "    <tr>\n",
       "      <th>1</th>\n",
       "      <td>YANNICK JADOT FACE À BFM TV</td>\n",
       "      <td>2022-02-16 12:04:04</td>\n",
       "      <td>#yannickjadot</td>\n",
       "      <td>244</td>\n",
       "    </tr>\n",
       "  </tbody>\n",
       "</table>\n",
       "</div>"
      ],
      "text/plain": [
       "                          NomO               dateP        hashtag  nbLikes\n",
       "0  YANNICK JADOT FACE À BFM TV 2022-02-16 12:04:04     #jadot2022      244\n",
       "1  YANNICK JADOT FACE À BFM TV 2022-02-16 12:04:04  #yannickjadot      244"
      ]
     },
     "execution_count": 24,
     "metadata": {},
     "output_type": "execute_result"
    }
   ],
   "source": [
    "#---------------------------------------------------------------------------------------------\n",
    "# Instaloader charge les hashtag sous forme de string. Cette fonction permet de creer\n",
    "# un dataframe chaque hashtag a une ligne associe a son post et a son organisme\n",
    "#---------------------------------------------------------------------------------------------\n",
    "def create_hashtagliste_dataframe(subdtf) :\n",
    "    output_list = []\n",
    "    initial_dtf = subdtf\n",
    "    for ind in initial_dtf.index :\n",
    "        compte = initial_dtf['titreVideo'][ind]\n",
    "        date_post = initial_dtf['dateVideo'][ind]\n",
    "        str_hashtags = initial_dtf['liste_tags'][ind]\n",
    "        nb_likes = initial_dtf['likesVideo'][ind]\n",
    "        if str_hashtags != '[]' :\n",
    "            # res = str_hashtags.strip(\"][ \").split(',')\n",
    "            for i in range(len(str_hashtags)) :\n",
    "                res_clean = str_hashtags[i].replace(\" \", \"\")\n",
    "                res_clean = res_clean.replace(\"'\", \"\")\n",
    "                res_clean = \"#\" + res_clean\n",
    "                output_list.append([compte, date_post, res_clean, nb_likes])\n",
    "        else :\n",
    "            output_list.append([compte, date_post, \"None\"])\n",
    "    output_dtf = pd.DataFrame(output_list, columns=['NomO', 'dateP', 'hashtag', 'nbLikes'])\n",
    "    return output_dtf\n",
    "\n",
    "hash_v = create_hashtagliste_dataframe(videos_v_22)\n",
    "hash_v.head(2)\n"
   ]
  },
  {
   "cell_type": "markdown",
   "metadata": {},
   "source": [
    "### 3.2.6. Majorité"
   ]
  },
  {
   "cell_type": "code",
   "execution_count": 25,
   "metadata": {},
   "outputs": [
    {
     "data": {
      "image/png": "[encoded data removed]",
      "text/plain": [
       "<Figure size 432x288 with 1 Axes>"
      ]
     },
     "metadata": {
      "needs_background": "light"
     },
     "output_type": "display_data"
    }
   ],
   "source": [
    "# Année 2022\n",
    "top_tags = liste_top_tags_de_chaines (dtfv = videos_c_22, colonne = 'courant', valeur = 'centre', top = 10, titre = '', color = \"#9fc5e8\", liste_exceptions=['macron'])\n",
    "dump_tags_json(toptags=top_tags, nomfichier=dossier_output + toptagsfolder_json + \"top_tags_majorite_2022.json\")\n",
    "top_tags.to_csv(dossier_output + toptagsfolder_csv + 'top_tags_majorite_2022.csv')"
   ]
  },
  {
   "cell_type": "code",
   "execution_count": 26,
   "metadata": {},
   "outputs": [
    {
     "name": "stdout",
     "output_type": "stream",
     "text": [
      "Aucun tags trouvés sur les vidéos sélectionnées\n"
     ]
    }
   ],
   "source": [
    "# Année 2021\n",
    "# On sait que ce sera vide, vu que la chaîne a commencé à exister en 2022, mais nous agissons comme des machines\n",
    "top_tags = liste_top_tags_de_chaines (dtfv = videos_c_21, colonne = 'courant', valeur = 'centre', top = 10, titre = '', color = \"#9fc5e8\")\n",
    "dump_tags_json(toptags=top_tags, nomfichier=dossier_output + toptagsfolder_json + \"top_tags_majorite_2021.json\")\n",
    "top_tags.to_csv(dossier_output + toptagsfolder_csv + 'top_tags_majorite_2021.csv')"
   ]
  },
  {
   "cell_type": "markdown",
   "metadata": {},
   "source": [
    "# Préparation des transcripts pour notre traitement suivant\n",
    "\n",
    "Ici, on liste les vidéos pour lesquelles on va vouloir récupérer le transcript.\n",
    "\n",
    "Dans notre cas, on souhaite ne travailler pour l'instant que sur le mois de février."
   ]
  },
  {
   "cell_type": "code",
   "execution_count": 27,
   "metadata": {},
   "outputs": [
    {
     "data": {
      "text/plain": [
       "231"
      ]
     },
     "execution_count": 27,
     "metadata": {},
     "output_type": "execute_result"
    }
   ],
   "source": [
    "date_segment = {\"datemin\" : datetime.datetime(2022,2,1,0,0,0), \"datemax\" : datetime.datetime(2022,3,1,0,0,0)}\n",
    "video_du_mois = videos_candidats_2022[videos_candidats_2022['dateVideo'] > date_segment[\"datemin\"]]\n",
    "video_du_mois = video_du_mois[video_du_mois[\"dateVideo\"] < date_segment[\"datemax\"]]\n",
    "video_du_mois.shape[0]"
   ]
  },
  {
   "cell_type": "code",
   "execution_count": 28,
   "metadata": {},
   "outputs": [],
   "source": [
    "video_du_mois.to_csv('./temp_files/liste_de_video_pour_transcript_analyse.csv')"
   ]
  }
 ],
 "metadata": {
  "interpreter": {
   "hash": "2ed17ee1431ea646ff4cd0e36ebc6074f1354fab28092324062941991356fcdc"
  },
  "kernelspec": {
   "display_name": "Python 3.8.5 64-bit ('base': conda)",
   "name": "python3"
  },
  "language_info": {
   "codemirror_mode": {
    "name": "ipython",
    "version": 3
   },
   "file_extension": ".py",
   "mimetype": "text/x-python",
   "name": "python",
   "nbconvert_exporter": "python",
   "pygments_lexer": "ipython3",
   "version": "3.8.5"
  },
  "orig_nbformat": 4
 },
 "nbformat": 4,
 "nbformat_minor": 2
}
