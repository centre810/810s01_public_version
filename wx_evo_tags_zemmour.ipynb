{
 "cells": [
  {
   "cell_type": "code",
   "execution_count": 1,
   "metadata": {},
   "outputs": [
    {
     "name": "stdout",
     "output_type": "stream",
     "text": [
      "Imported 11 channel data\n"
     ]
    }
   ],
   "source": [
    "import gen_dataset_810 as mod_810fr\n",
    "# importer datetime pour typer les donnees de dates des chaines et des videos\n",
    "import datetime\n",
    "# module https://810.fr pour traitement des tags des videos\n",
    "import gen_tags_visu_810 as tv810\n",
    "# module https://810.fr pour casser les gros dataframe ou activites mensuelles\n",
    "import gen_activitemensuelle_data_810 as amd810\n",
    "\n",
    "\n",
    "\n",
    "# Définition des dates limites pour les filtres de https://s01.810.fr\n",
    "liste_mois = [{\"mois\" : \"Janvier\", \"dates\" : {\"datemin\" : datetime.datetime(2022, 1, 1, 0, 0, 0), \"datemax\" : datetime.datetime(2022, 2, 1, 0, 0, 0)}},\n",
    "                {\"mois\" : \"Février\", \"dates\" : {\"datemin\" : datetime.datetime(2022, 2, 1, 0, 0, 0), \"datemax\" : datetime.datetime(2022, 3, 1, 0, 0, 0)}},\n",
    "                {\"mois\" : \"Mars\", \"dates\" : {\"datemin\" : datetime.datetime(2022, 3, 1, 0, 0, 0), \"datemax\" : datetime.datetime(2022, 4, 1, 0, 0, 0)}}]\n",
    "\n",
    "\n",
    "# Récupération des fichiers générés à partir des API YouTube\n",
    "folder_candidats = './data_sources/stats_videos/2022_03_26/'\n",
    "# Création d'un datafram qui agrège les fichiers\n",
    "dt_candidats = mod_810fr.mb_ds()\n",
    "# Génération d'un dataframe de vidéos et d'un dataframe de chaîne (exemple dans les blocs qui suivent)\n",
    "videos_candidats_toutes, chaines_candidats_toutes  = dt_candidats.get_full_data_candidat(folder = folder_candidats)\n",
    "# Generation d'un dataframe par mois sous la forme d'une liste de [{\"mois\" : moisassocie, \"dataframe\" : dataframedumois}]\n",
    "liste_dtf_mensuel = amd810.un_dtf_par_mois(dtfglobal=videos_candidats_toutes, list_dict_dates=liste_mois)"
   ]
  },
  {
   "cell_type": "code",
   "execution_count": 2,
   "metadata": {},
   "outputs": [
    {
     "data": {
      "text/plain": [
       "array(['Eric Zemmour', 'Marine Le Pen', 'Anne Hidalgo',\n",
       "       'Valérie Pécresse', 'Jean Lassalle', 'Jean-Luc Mélenchon',\n",
       "       'Nathalie Arthaud', 'Nicolas Dupont-Aignan', 'Fabien Roussel',\n",
       "       'Avec vous', 'Yannick Jadot'], dtype=object)"
      ]
     },
     "execution_count": 2,
     "metadata": {},
     "output_type": "execute_result"
    }
   ],
   "source": [
    "candidats = chaines_candidats_toutes.candidat.unique()\n",
    "candidats"
   ]
  },
  {
   "cell_type": "code",
   "execution_count": 3,
   "metadata": {},
   "outputs": [],
   "source": [
    "# videos_candidats_toutes.head(20)"
   ]
  },
  {
   "cell_type": "markdown",
   "metadata": {},
   "source": [
    "- 1 top tags global, avec la part pour chaque mois\n",
    "- 1 top tags par mois\n",
    "\n",
    "\n",
    "- Necessite de parler en nombre de videos Taggees\n",
    "Qui tags et pourquoi."
   ]
  },
  {
   "cell_type": "code",
   "execution_count": 4,
   "metadata": {},
   "outputs": [],
   "source": [
    "datemin = liste_mois[0][\"dates\"][\"datemin\"]\n",
    "datemax = liste_mois[-1][\"dates\"][\"datemax\"]"
   ]
  },
  {
   "cell_type": "markdown",
   "metadata": {},
   "source": [
    "# 1. Eric Zemmour"
   ]
  },
  {
   "cell_type": "code",
   "execution_count": 5,
   "metadata": {},
   "outputs": [],
   "source": [
    "candidat = \"Eric Zemmour\"\n",
    "lst_exceptions = ['zemmour', 'zemmour 2022', 'Z00Z']"
   ]
  },
  {
   "cell_type": "code",
   "execution_count": 6,
   "metadata": {},
   "outputs": [],
   "source": [
    "# Récupère seulement les vidéos d'un candidat dans le dtf globale sur la base du nom du candidat et des dates limites choisies\n",
    "videos_can = amd810.get_candidat_subdtf(dtfglobal=videos_candidats_toutes, candidat=candidat, datemin=datemin, datemax=datemax)\n",
    "# Crée une liste de dataframe par mois\n",
    "dtf_mensuel_candidat = amd810.un_dtf_par_mois(dtfglobal=videos_can, list_dict_dates=liste_mois)\n",
    "# Donne les tags les plus utilisés sur la période de temps écoulée entre datemin et datemax\n",
    "top_tags_global = tv810.liste_top_tags_de_chaines (dtfv = videos_can, top = 15, liste_exceptions= lst_exceptions,graph='non')"
   ]
  },
  {
   "cell_type": "code",
   "execution_count": 7,
   "metadata": {},
   "outputs": [
    {
     "data": {
      "text/html": [
       "<div>\n",
       "<style scoped>\n",
       "    .dataframe tbody tr th:only-of-type {\n",
       "        vertical-align: middle;\n",
       "    }\n",
       "\n",
       "    .dataframe tbody tr th {\n",
       "        vertical-align: top;\n",
       "    }\n",
       "\n",
       "    .dataframe thead th {\n",
       "        text-align: right;\n",
       "    }\n",
       "</style>\n",
       "<table border=\"1\" class=\"dataframe\">\n",
       "  <thead>\n",
       "    <tr style=\"text-align: right;\">\n",
       "      <th></th>\n",
       "      <th>Janvier</th>\n",
       "      <th>Février</th>\n",
       "      <th>Mars</th>\n",
       "    </tr>\n",
       "  </thead>\n",
       "  <tbody>\n",
       "    <tr>\n",
       "      <th>avec tags</th>\n",
       "      <td>100</td>\n",
       "      <td>100</td>\n",
       "      <td>100</td>\n",
       "    </tr>\n",
       "    <tr>\n",
       "      <th>sans tags</th>\n",
       "      <td>0</td>\n",
       "      <td>0</td>\n",
       "      <td>0</td>\n",
       "    </tr>\n",
       "  </tbody>\n",
       "</table>\n",
       "</div>"
      ],
      "text/plain": [
       "          Janvier Février Mars\n",
       "avec tags     100     100  100\n",
       "sans tags       0       0    0"
      ]
     },
     "execution_count": 7,
     "metadata": {},
     "output_type": "execute_result"
    }
   ],
   "source": [
    "dtf_tauxtags_mois = tv810.taux_tags_par_mois(listedtfmois=dtf_mensuel_candidat)\n",
    "dtf_tauxtags_mois.head(20)"
   ]
  },
  {
   "cell_type": "code",
   "execution_count": null,
   "metadata": {},
   "outputs": [],
   "source": []
  },
  {
   "cell_type": "code",
   "execution_count": 8,
   "metadata": {},
   "outputs": [
    {
     "name": "stdout",
     "output_type": "stream",
     "text": [
      "total videos : 70\n"
     ]
    }
   ],
   "source": [
    "videos_can = videos_candidats_toutes[videos_candidats_toutes['candidat'] == candidat]\n",
    "videos_can = videos_can[videos_can['dateVideo'] > datetime.datetime(2022,1,1,0,0,0)]\n",
    "videos_can = videos_can[videos_can['dateVideo'] < datetime.datetime(2022,4,1,0,0,0)]\n",
    "print(\"total videos : \" + str(videos_can.shape[0]))\n",
    "\n",
    "globaltagdtf = tv810.turnserie_intodtf(nomcolonne=\"Total\", serie_data=top_tags_global)"
   ]
  },
  {
   "cell_type": "code",
   "execution_count": 9,
   "metadata": {},
   "outputs": [
    {
     "name": "stdout",
     "output_type": "stream",
     "text": [
      "Janvier : 32\n",
      "Février : 18\n",
      "Mars : 20\n"
     ]
    }
   ],
   "source": [
    "for dtf in dtf_mensuel_candidat :\n",
    "    mois_courant  = dtf['mois']\n",
    "    dtfmois  = dtf['dataframe']\n",
    "    print(mois_courant + \" : \" + str(dtfmois.shape[0]))"
   ]
  },
  {
   "cell_type": "code",
   "execution_count": 10,
   "metadata": {},
   "outputs": [],
   "source": [
    "# print(top_tags_global)"
   ]
  },
  {
   "cell_type": "code",
   "execution_count": 11,
   "metadata": {},
   "outputs": [
    {
     "data": {
      "text/html": [
       "<div>\n",
       "<style scoped>\n",
       "    .dataframe tbody tr th:only-of-type {\n",
       "        vertical-align: middle;\n",
       "    }\n",
       "\n",
       "    .dataframe tbody tr th {\n",
       "        vertical-align: top;\n",
       "    }\n",
       "\n",
       "    .dataframe thead th {\n",
       "        text-align: right;\n",
       "    }\n",
       "</style>\n",
       "<table border=\"1\" class=\"dataframe\">\n",
       "  <thead>\n",
       "    <tr style=\"text-align: right;\">\n",
       "      <th></th>\n",
       "      <th>Janvier</th>\n",
       "      <th>Février</th>\n",
       "      <th>Mars</th>\n",
       "      <th>Total</th>\n",
       "    </tr>\n",
       "  </thead>\n",
       "  <tbody>\n",
       "    <tr>\n",
       "      <th>eric zemmour</th>\n",
       "      <td>32</td>\n",
       "      <td>18</td>\n",
       "      <td>20</td>\n",
       "      <td>70</td>\n",
       "    </tr>\n",
       "    <tr>\n",
       "      <th>zemmour président</th>\n",
       "      <td>32</td>\n",
       "      <td>18</td>\n",
       "      <td>20</td>\n",
       "      <td>70</td>\n",
       "    </tr>\n",
       "    <tr>\n",
       "      <th>valeurs actuelles</th>\n",
       "      <td>31</td>\n",
       "      <td>16</td>\n",
       "      <td>18</td>\n",
       "      <td>65</td>\n",
       "    </tr>\n",
       "    <tr>\n",
       "      <th>patriote</th>\n",
       "      <td>31</td>\n",
       "      <td>15</td>\n",
       "      <td>16</td>\n",
       "      <td>62</td>\n",
       "    </tr>\n",
       "    <tr>\n",
       "      <th>france</th>\n",
       "      <td>32</td>\n",
       "      <td>15</td>\n",
       "      <td>14</td>\n",
       "      <td>61</td>\n",
       "    </tr>\n",
       "    <tr>\n",
       "      <th>presidentielle 2022</th>\n",
       "      <td>29</td>\n",
       "      <td>15</td>\n",
       "      <td>14</td>\n",
       "      <td>58</td>\n",
       "    </tr>\n",
       "    <tr>\n",
       "      <th>immigration</th>\n",
       "      <td>24</td>\n",
       "      <td>12</td>\n",
       "      <td>11</td>\n",
       "      <td>47</td>\n",
       "    </tr>\n",
       "    <tr>\n",
       "      <th>charlotte d'ornellas</th>\n",
       "      <td>21</td>\n",
       "      <td>14</td>\n",
       "      <td>10</td>\n",
       "      <td>45</td>\n",
       "    </tr>\n",
       "    <tr>\n",
       "      <th>islam</th>\n",
       "      <td>25</td>\n",
       "      <td>10</td>\n",
       "      <td>8</td>\n",
       "      <td>43</td>\n",
       "    </tr>\n",
       "    <tr>\n",
       "      <th>actu</th>\n",
       "      <td>14</td>\n",
       "      <td>14</td>\n",
       "      <td>13</td>\n",
       "      <td>41</td>\n",
       "    </tr>\n",
       "    <tr>\n",
       "      <th>face à l'info</th>\n",
       "      <td>18</td>\n",
       "      <td>11</td>\n",
       "      <td>9</td>\n",
       "      <td>38</td>\n",
       "    </tr>\n",
       "    <tr>\n",
       "      <th>politique</th>\n",
       "      <td>15</td>\n",
       "      <td>7</td>\n",
       "      <td>11</td>\n",
       "      <td>33</td>\n",
       "    </tr>\n",
       "    <tr>\n",
       "      <th>cnews</th>\n",
       "      <td>14</td>\n",
       "      <td>10</td>\n",
       "      <td>8</td>\n",
       "      <td>32</td>\n",
       "    </tr>\n",
       "    <tr>\n",
       "      <th>reconquête</th>\n",
       "      <td>13</td>\n",
       "      <td>10</td>\n",
       "      <td>9</td>\n",
       "      <td>32</td>\n",
       "    </tr>\n",
       "    <tr>\n",
       "      <th>les amis d'eric zemmour</th>\n",
       "      <td>16</td>\n",
       "      <td>8</td>\n",
       "      <td>6</td>\n",
       "      <td>30</td>\n",
       "    </tr>\n",
       "  </tbody>\n",
       "</table>\n",
       "</div>"
      ],
      "text/plain": [
       "                        Janvier Février Mars  Total\n",
       "eric zemmour                 32      18   20     70\n",
       "zemmour président            32      18   20     70\n",
       "valeurs actuelles            31      16   18     65\n",
       "patriote                     31      15   16     62\n",
       "france                       32      15   14     61\n",
       "presidentielle 2022          29      15   14     58\n",
       "immigration                  24      12   11     47\n",
       "charlotte d'ornellas         21      14   10     45\n",
       "islam                        25      10    8     43\n",
       "actu                         14      14   13     41\n",
       "face à l'info                18      11    9     38\n",
       "politique                    15       7   11     33\n",
       "cnews                        14      10    8     32\n",
       "reconquête                   13      10    9     32\n",
       "les amis d'eric zemmour      16       8    6     30"
      ]
     },
     "execution_count": 11,
     "metadata": {},
     "output_type": "execute_result"
    }
   ],
   "source": [
    "dtf = tv810.nb_tags_par_mois(listedtfmois=dtf_mensuel_candidat,toptagsglobal=top_tags_global, lst_except=lst_exceptions)\n",
    "dtf = dtf.join(globaltagdtf)\n",
    "dtf = dtf.sort_values(by = [\"Total\"], ascending = False)\n",
    "dtf.head(20)"
   ]
  },
  {
   "cell_type": "code",
   "execution_count": 12,
   "metadata": {},
   "outputs": [],
   "source": [
    "tfb = tv810.part_tags_par_mois(listedtfmois=dtf_mensuel_candidat,toptagsglobal=top_tags_global, lst_except=lst_exceptions)"
   ]
  },
  {
   "cell_type": "code",
   "execution_count": 13,
   "metadata": {},
   "outputs": [
    {
     "data": {
      "text/html": [
       "<div>\n",
       "<style scoped>\n",
       "    .dataframe tbody tr th:only-of-type {\n",
       "        vertical-align: middle;\n",
       "    }\n",
       "\n",
       "    .dataframe tbody tr th {\n",
       "        vertical-align: top;\n",
       "    }\n",
       "\n",
       "    .dataframe thead th {\n",
       "        text-align: right;\n",
       "    }\n",
       "</style>\n",
       "<table border=\"1\" class=\"dataframe\">\n",
       "  <thead>\n",
       "    <tr style=\"text-align: right;\">\n",
       "      <th></th>\n",
       "      <th>Janvier</th>\n",
       "      <th>Février</th>\n",
       "      <th>Mars</th>\n",
       "      <th>Delta</th>\n",
       "    </tr>\n",
       "  </thead>\n",
       "  <tbody>\n",
       "    <tr>\n",
       "      <th>les amis d'eric zemmour</th>\n",
       "      <td>50</td>\n",
       "      <td>44.4444</td>\n",
       "      <td>30</td>\n",
       "      <td>-20.000</td>\n",
       "    </tr>\n",
       "    <tr>\n",
       "      <th>cnews</th>\n",
       "      <td>43.75</td>\n",
       "      <td>55.5556</td>\n",
       "      <td>40</td>\n",
       "      <td>-3.750</td>\n",
       "    </tr>\n",
       "    <tr>\n",
       "      <th>reconquête</th>\n",
       "      <td>40.625</td>\n",
       "      <td>55.5556</td>\n",
       "      <td>45</td>\n",
       "      <td>4.375</td>\n",
       "    </tr>\n",
       "    <tr>\n",
       "      <th>politique</th>\n",
       "      <td>46.875</td>\n",
       "      <td>38.8889</td>\n",
       "      <td>55</td>\n",
       "      <td>8.125</td>\n",
       "    </tr>\n",
       "    <tr>\n",
       "      <th>face à l'info</th>\n",
       "      <td>56.25</td>\n",
       "      <td>61.1111</td>\n",
       "      <td>45</td>\n",
       "      <td>-11.250</td>\n",
       "    </tr>\n",
       "    <tr>\n",
       "      <th>actu</th>\n",
       "      <td>43.75</td>\n",
       "      <td>77.7778</td>\n",
       "      <td>65</td>\n",
       "      <td>21.250</td>\n",
       "    </tr>\n",
       "    <tr>\n",
       "      <th>islam</th>\n",
       "      <td>78.125</td>\n",
       "      <td>55.5556</td>\n",
       "      <td>40</td>\n",
       "      <td>-38.125</td>\n",
       "    </tr>\n",
       "    <tr>\n",
       "      <th>charlotte d'ornellas</th>\n",
       "      <td>65.625</td>\n",
       "      <td>77.7778</td>\n",
       "      <td>50</td>\n",
       "      <td>-15.625</td>\n",
       "    </tr>\n",
       "    <tr>\n",
       "      <th>immigration</th>\n",
       "      <td>75</td>\n",
       "      <td>66.6667</td>\n",
       "      <td>55</td>\n",
       "      <td>-20.000</td>\n",
       "    </tr>\n",
       "    <tr>\n",
       "      <th>presidentielle 2022</th>\n",
       "      <td>90.625</td>\n",
       "      <td>83.3333</td>\n",
       "      <td>70</td>\n",
       "      <td>-20.625</td>\n",
       "    </tr>\n",
       "    <tr>\n",
       "      <th>france</th>\n",
       "      <td>100</td>\n",
       "      <td>83.3333</td>\n",
       "      <td>70</td>\n",
       "      <td>-30.000</td>\n",
       "    </tr>\n",
       "    <tr>\n",
       "      <th>patriote</th>\n",
       "      <td>96.875</td>\n",
       "      <td>83.3333</td>\n",
       "      <td>80</td>\n",
       "      <td>-16.875</td>\n",
       "    </tr>\n",
       "    <tr>\n",
       "      <th>valeurs actuelles</th>\n",
       "      <td>96.875</td>\n",
       "      <td>88.8889</td>\n",
       "      <td>90</td>\n",
       "      <td>-6.875</td>\n",
       "    </tr>\n",
       "    <tr>\n",
       "      <th>eric zemmour</th>\n",
       "      <td>100</td>\n",
       "      <td>100</td>\n",
       "      <td>100</td>\n",
       "      <td>0.000</td>\n",
       "    </tr>\n",
       "    <tr>\n",
       "      <th>zemmour président</th>\n",
       "      <td>100</td>\n",
       "      <td>100</td>\n",
       "      <td>100</td>\n",
       "      <td>0.000</td>\n",
       "    </tr>\n",
       "  </tbody>\n",
       "</table>\n",
       "</div>"
      ],
      "text/plain": [
       "                        Janvier  Février Mars   Delta\n",
       "les amis d'eric zemmour      50  44.4444   30 -20.000\n",
       "cnews                     43.75  55.5556   40  -3.750\n",
       "reconquête               40.625  55.5556   45   4.375\n",
       "politique                46.875  38.8889   55   8.125\n",
       "face à l'info             56.25  61.1111   45 -11.250\n",
       "actu                      43.75  77.7778   65  21.250\n",
       "islam                    78.125  55.5556   40 -38.125\n",
       "charlotte d'ornellas     65.625  77.7778   50 -15.625\n",
       "immigration                  75  66.6667   55 -20.000\n",
       "presidentielle 2022      90.625  83.3333   70 -20.625\n",
       "france                      100  83.3333   70 -30.000\n",
       "patriote                 96.875  83.3333   80 -16.875\n",
       "valeurs actuelles        96.875  88.8889   90  -6.875\n",
       "eric zemmour                100      100  100   0.000\n",
       "zemmour président           100      100  100   0.000"
      ]
     },
     "execution_count": 13,
     "metadata": {},
     "output_type": "execute_result"
    }
   ],
   "source": [
    "delta_taux = tv810.gen_delta(dtfsource=tfb, colfin=\"Mars\", coldeb=\"Janvier\", nomcol=\"Delta\")\n",
    "delta_taux.head(20)"
   ]
  }
 ],
 "metadata": {
  "interpreter": {
   "hash": "0a5331cb55ab7294c1c0f98062dab8e6b66a268d94e6b66c26b729f5ce3bba9e"
  },
  "kernelspec": {
   "display_name": "Python 3.8.5 ('base')",
   "language": "python",
   "name": "python3"
  },
  "language_info": {
   "codemirror_mode": {
    "name": "ipython",
    "version": 3
   },
   "file_extension": ".py",
   "mimetype": "text/x-python",
   "name": "python",
   "nbconvert_exporter": "python",
   "pygments_lexer": "ipython3",
   "version": "3.8.5"
  },
  "orig_nbformat": 4
 },
 "nbformat": 4,
 "nbformat_minor": 2
}
