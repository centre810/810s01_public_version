{
 "cells": [
  {
   "cell_type": "code",
   "execution_count": 3,
   "metadata": {},
   "outputs": [
    {
     "name": "stdout",
     "output_type": "stream",
     "text": [
      "Imported 32 channel data\n"
     ]
    }
   ],
   "source": [
    "import gen_dataset_810 as mod_810fr\n",
    "# importer datetime pour typer les donnees de dates des chaines et des videos\n",
    "import datetime\n",
    "import pandas as pd\n",
    "\n",
    "# Définition des dates limites pour les filtres de https://s01.810.fr\n",
    "datemin_2022 = datetime.datetime(2022, 1, 1, 0, 0, 0)\n",
    "datemax_2022 = datetime.datetime(2022, 4, 1, 0, 0, 0)\n",
    "datemin_2021 = datetime.datetime(2021, 1, 1, 0, 0, 0)\n",
    "\n",
    "# Récupération des fichiers générés à partir des API YouTube\n",
    "folder_candidats = './data_sources/stats_videos/2022_03_08/'\n",
    "# Création d'un datafram qui agrège les fichiers\n",
    "dt_candidats = mod_810fr.mb_ds()\n",
    "# Génération d'un dataframe de vidéos et d'un dataframe de chaîne (exemple dans les blocs qui suivent)\n",
    "videos_candidats_toutes, chaines_candidats_toutes  = dt_candidats.get_full_data_candidat(folder = folder_candidats)\n",
    "\n",
    "# Création du dataframe de vidéos, spécial 2021\n",
    "videos_candidats_2021 = videos_candidats_toutes[videos_candidats_toutes['dateVideo'] > datemin_2021]\n",
    "videos_candidats_2021 = videos_candidats_2021[videos_candidats_2021['dateVideo'] < datemin_2022]\n",
    "\n",
    "# On ne conserve que les lignes associées aux candidat.e.s officiel.le.s\n",
    "liste_chaines_candidats_officiels = [\"Nathalie Arthaud\", \"Jean-Luc Mélenchon\", \"Jean Lassalle\", \"Anne Hidalgo\", \"Marine Le Pen\", \"Valérie Pécresse\", \"Nicolas Dupont-Aignan\", \"Yannick Jadot\",\"Avec vous\", \"Eric Zemmour\"]\n",
    "# Filtrage des vidéos de l'année 2021\n",
    "boolean_series_2021 = videos_candidats_2021.candidat.isin(liste_chaines_candidats_officiels)\n",
    "videos_candidats_2021 = videos_candidats_2021[boolean_series_2021]\n",
    "\n",
    "\n",
    "dossier_output = './data_output/'\n",
    "activityfolder_csv = 'activity-csv/'"
   ]
  },
  {
   "cell_type": "code",
   "execution_count": 4,
   "metadata": {},
   "outputs": [
    {
     "name": "stdout",
     "output_type": "stream",
     "text": [
      "Données CSA importées - 6656 lignes\n"
     ]
    }
   ],
   "source": [
    "import retraitement_data_csa as csa\n",
    "\n",
    "# Init CSA data\n",
    "csa_octobre_21 = \"./data_sources/donnees_csa/synthese_CSA_octobre_2021.csv\"\n",
    "csa_novembre_21 = \"./data_sources/donnees_csa/synthese_CSA_novembre_2021.csv\"\n",
    "csa_decembre_21 = \"./data_sources/donnees_csa/synthese_CSA_decembre_2021.csv\"\n",
    "\n",
    "dtf_csa = csa.init_csa_dataframe(lst_fichiers = [csa_octobre_21, csa_novembre_21, csa_decembre_21])\n",
    "dtf_csa_augmente = csa.create_filtered_csa_dtf(dtfcsa = dtf_csa)\n",
    "\n",
    "videos_entre_oct_et_dec = videos_candidats_2021[videos_candidats_2021['dateVideo'] > datetime.datetime(2021,10,1,0,0,0)]\n",
    "# videos_entre_oct_et_dec.to_csv('videos_postees_apres_octobre.csv', index = True)\n",
    "\n",
    "# Dessine un barchart de temps de parole par type de media\n",
    "def barres_duree_media_croise(dtfcsa, dtfyt, titre = \"\") :\n",
    "    lst_lbl = []\n",
    "    lst_values = []\n",
    "    for media in dtfcsa.media.unique() :\n",
    "        subdtf = dtfcsa[dtfcsa['media'] == media]\n",
    "        lst_lbl.append(media)\n",
    "        lst_values.append(csa.somme_temps(subdtf=subdtf))\n",
    "\n",
    "    lst_lbl.append('YouTube')\n",
    "    lst_values.append(dtfyt[\"dureeVideo\"].sum().total_seconds() / 60)\n",
    "\n",
    "    d = {'media' : lst_lbl, 'duree' : lst_values}\n",
    "    d\n",
    "    df = pd.DataFrame(d)\n",
    "    df = df.sort_values(by=['duree'], ascending=False)\n",
    "\n",
    "    return df\n",
    "\n",
    "\n",
    "dtf_media = barres_duree_media_croise(dtfcsa=dtf_csa_augmente, dtfyt= videos_entre_oct_et_dec, titre=\"Durée de parole cumulée des candidats par media, du 1er Octobre 2021 ay 31 Décembre 2021\\n\")\n",
    "\n",
    "dtf_media.to_csv(dossier_output + activityfolder_csv + 'media.csv')"
   ]
  }
 ],
 "metadata": {
  "interpreter": {
   "hash": "0a5331cb55ab7294c1c0f98062dab8e6b66a268d94e6b66c26b729f5ce3bba9e"
  },
  "kernelspec": {
   "display_name": "Python 3.8.5 ('base')",
   "language": "python",
   "name": "python3"
  },
  "language_info": {
   "codemirror_mode": {
    "name": "ipython",
    "version": 3
   },
   "file_extension": ".py",
   "mimetype": "text/x-python",
   "name": "python",
   "nbconvert_exporter": "python",
   "pygments_lexer": "ipython3",
   "version": "3.8.5"
  },
  "orig_nbformat": 4
 },
 "nbformat": 4,
 "nbformat_minor": 2
}
