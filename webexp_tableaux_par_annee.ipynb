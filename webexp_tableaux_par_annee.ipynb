{
 "cells": [
  {
   "cell_type": "markdown",
   "metadata": {},
   "source": [
    "# 1. Introduction\n",
    "\n",
    "Fichier qui permet d'exporter les differentes donnees necessaires a la diffusion des graphs sur le web, via quelques fonctions qui les retraitent pour correspondre aux filtres attendus."
   ]
  },
  {
   "cell_type": "code",
   "execution_count": 13,
   "metadata": {},
   "outputs": [
    {
     "name": "stdout",
     "output_type": "stream",
     "text": [
      "Imported 12 channel data\n"
     ]
    }
   ],
   "source": [
    "import gen_dataset_810 as mod_810fr\n",
    "# importer datetime pour typer les donnees de dates des chaines et des videos\n",
    "import datetime\n",
    "\n",
    "\n",
    "# Définition des dates limites pour les filtres de https://s01.810.fr\n",
    "datemin_2022 = datetime.datetime(2022, 1, 1, 0, 0, 0)\n",
    "datemax_2022 = datetime.datetime(2022, 4, 1, 0, 0, 0)\n",
    "datemin_2021 = datetime.datetime(2021, 1, 1, 0, 0, 0)\n",
    "\n",
    "# Récupération des fichiers générés à partir des API YouTube\n",
    "folder_candidats = './data_sources/stats_videos/2022_03_08/'\n",
    "# Création d'un datafram qui agrège les fichiers\n",
    "dt_candidats = mod_810fr.mb_ds()\n",
    "# Génération d'un dataframe de vidéos et d'un dataframe de chaîne (exemple dans les blocs qui suivent)\n",
    "videos_candidats_toutes, chaines_candidats_toutes  = dt_candidats.get_full_data_candidat(folder = folder_candidats)\n",
    "\n",
    "# Création du dataframe de vidéos, spécial 2022\n",
    "videos_candidats_2022 = videos_candidats_toutes[videos_candidats_toutes['dateVideo'] > datemin_2022]\n",
    "videos_candidats_2022 = videos_candidats_2022[videos_candidats_2022['dateVideo'] < datemax_2022]\n",
    "\n",
    "# Création du dataframe de vidéos, spécial 2021\n",
    "videos_candidats_2021 = videos_candidats_toutes[videos_candidats_toutes['dateVideo'] > datemin_2021]\n",
    "videos_candidats_2021 = videos_candidats_2021[videos_candidats_2021['dateVideo'] < datemin_2022]\n",
    "\n",
    "\n",
    "dossier_output = './data_output/'\n",
    "toptagsfolder_json = 'top-tags-json/'\n",
    "activityfolder_json = 'activity-json/'\n",
    "toptagsfolder_csv = 'top-tags-csv/'\n",
    "activityfolder_csv = 'activity-csv/'"
   ]
  },
  {
   "cell_type": "markdown",
   "metadata": {},
   "source": [
    "### 1.1 Affichage de la première ligne et du nombre de lignes totales\n"
   ]
  },
  {
   "cell_type": "code",
   "execution_count": 14,
   "metadata": {},
   "outputs": [
    {
     "data": {
      "text/html": [
       "<div>\n",
       "<style scoped>\n",
       "    .dataframe tbody tr th:only-of-type {\n",
       "        vertical-align: middle;\n",
       "    }\n",
       "\n",
       "    .dataframe tbody tr th {\n",
       "        vertical-align: top;\n",
       "    }\n",
       "\n",
       "    .dataframe thead th {\n",
       "        text-align: right;\n",
       "    }\n",
       "</style>\n",
       "<table border=\"1\" class=\"dataframe\">\n",
       "  <thead>\n",
       "    <tr style=\"text-align: right;\">\n",
       "      <th></th>\n",
       "      <th>dateRqt</th>\n",
       "      <th>candidat</th>\n",
       "      <th>parti</th>\n",
       "      <th>courant</th>\n",
       "      <th>chaine</th>\n",
       "      <th>titreVideo</th>\n",
       "      <th>vid_id</th>\n",
       "      <th>dateVideo</th>\n",
       "      <th>liste_tags</th>\n",
       "      <th>livebroadcast</th>\n",
       "      <th>vuesVideo</th>\n",
       "      <th>likesVideo</th>\n",
       "      <th>dislikesVideo</th>\n",
       "      <th>favVideo</th>\n",
       "      <th>comzVideo</th>\n",
       "      <th>dureeVideo</th>\n",
       "    </tr>\n",
       "  </thead>\n",
       "  <tbody>\n",
       "    <tr>\n",
       "      <th>0</th>\n",
       "      <td>2022/03/08</td>\n",
       "      <td>Emmanuel Macron</td>\n",
       "      <td>LREM</td>\n",
       "      <td>centre</td>\n",
       "      <td>Emmanuel Macron</td>\n",
       "      <td>Quatre jours en Inde | Emmanuel Macron</td>\n",
       "      <td>UdVAF_3vVSw</td>\n",
       "      <td>2018-03-18 13:41:41</td>\n",
       "      <td>[emmanuel, macron, inde, new delhi, bénarès, v...</td>\n",
       "      <td>none</td>\n",
       "      <td>1388604</td>\n",
       "      <td>55799</td>\n",
       "      <td>0</td>\n",
       "      <td>0</td>\n",
       "      <td>4256</td>\n",
       "      <td>0 days 00:05:29</td>\n",
       "    </tr>\n",
       "  </tbody>\n",
       "</table>\n",
       "</div>"
      ],
      "text/plain": [
       "      dateRqt         candidat parti courant           chaine  \\\n",
       "0  2022/03/08  Emmanuel Macron  LREM  centre  Emmanuel Macron   \n",
       "\n",
       "                               titreVideo       vid_id           dateVideo  \\\n",
       "0  Quatre jours en Inde | Emmanuel Macron  UdVAF_3vVSw 2018-03-18 13:41:41   \n",
       "\n",
       "                                          liste_tags livebroadcast  vuesVideo  \\\n",
       "0  [emmanuel, macron, inde, new delhi, bénarès, v...          none    1388604   \n",
       "\n",
       "   likesVideo  dislikesVideo  favVideo  comzVideo      dureeVideo  \n",
       "0       55799              0         0       4256 0 days 00:05:29  "
      ]
     },
     "execution_count": 14,
     "metadata": {},
     "output_type": "execute_result"
    }
   ],
   "source": [
    "videos_candidats_toutes.head(1)"
   ]
  },
  {
   "cell_type": "code",
   "execution_count": 15,
   "metadata": {},
   "outputs": [
    {
     "data": {
      "text/plain": [
       "(2964, 16)"
      ]
     },
     "execution_count": 15,
     "metadata": {},
     "output_type": "execute_result"
    }
   ],
   "source": [
    "videos_candidats_toutes.shape"
   ]
  },
  {
   "cell_type": "code",
   "execution_count": 16,
   "metadata": {},
   "outputs": [
    {
     "data": {
      "text/html": [
       "<div>\n",
       "<style scoped>\n",
       "    .dataframe tbody tr th:only-of-type {\n",
       "        vertical-align: middle;\n",
       "    }\n",
       "\n",
       "    .dataframe tbody tr th {\n",
       "        vertical-align: top;\n",
       "    }\n",
       "\n",
       "    .dataframe thead th {\n",
       "        text-align: right;\n",
       "    }\n",
       "</style>\n",
       "<table border=\"1\" class=\"dataframe\">\n",
       "  <thead>\n",
       "    <tr style=\"text-align: right;\">\n",
       "      <th></th>\n",
       "      <th>dateRqt</th>\n",
       "      <th>candidat</th>\n",
       "      <th>parti</th>\n",
       "      <th>courant</th>\n",
       "      <th>chaine</th>\n",
       "      <th>dateCreationChaine</th>\n",
       "      <th>pays</th>\n",
       "      <th>categorieschaine</th>\n",
       "      <th>vuesChaine</th>\n",
       "      <th>abonnesChaine</th>\n",
       "      <th>nbVideosChaine</th>\n",
       "    </tr>\n",
       "  </thead>\n",
       "  <tbody>\n",
       "    <tr>\n",
       "      <th>0</th>\n",
       "      <td>2022/03/08</td>\n",
       "      <td>Emmanuel Macron</td>\n",
       "      <td>LREM</td>\n",
       "      <td>centre</td>\n",
       "      <td>Emmanuel Macron</td>\n",
       "      <td>2017-10-03</td>\n",
       "      <td>FR</td>\n",
       "      <td>[https://en.wikipedia.org/wiki/Society, https:...</td>\n",
       "      <td>17509175</td>\n",
       "      <td>243000</td>\n",
       "      <td>345</td>\n",
       "    </tr>\n",
       "  </tbody>\n",
       "</table>\n",
       "</div>"
      ],
      "text/plain": [
       "      dateRqt         candidat parti courant           chaine  \\\n",
       "0  2022/03/08  Emmanuel Macron  LREM  centre  Emmanuel Macron   \n",
       "\n",
       "  dateCreationChaine pays                                   categorieschaine  \\\n",
       "0         2017-10-03   FR  [https://en.wikipedia.org/wiki/Society, https:...   \n",
       "\n",
       "   vuesChaine  abonnesChaine  nbVideosChaine  \n",
       "0    17509175         243000             345  "
      ]
     },
     "execution_count": 16,
     "metadata": {},
     "output_type": "execute_result"
    }
   ],
   "source": [
    "chaines_candidats_toutes.head(1)"
   ]
  },
  {
   "cell_type": "code",
   "execution_count": 17,
   "metadata": {},
   "outputs": [
    {
     "data": {
      "text/plain": [
       "(12, 11)"
      ]
     },
     "execution_count": 17,
     "metadata": {},
     "output_type": "execute_result"
    }
   ],
   "source": [
    "chaines_candidats_toutes.shape"
   ]
  },
  {
   "cell_type": "markdown",
   "metadata": {},
   "source": [
    "Maintenant que la liste officielle des candidats et candidates a été publiée, nous allons limiter notre traitement par courant, aux chaînes associées à la campagne de chaque candidat et candidate officel(le)\n",
    "\n",
    "liste_candidats = ['Eric Zemmour', 'Avec vous', 'Jean-Luc Mélenchon', 'Valérie Pécresse', 'Yannick Jadot', 'Anne Hidalgo']"
   ]
  },
  {
   "cell_type": "code",
   "execution_count": 18,
   "metadata": {},
   "outputs": [
    {
     "data": {
      "text/plain": [
       "array(['Emmanuel Macron', 'Nathalie Arthaud', 'Jean-Luc Mélenchon',\n",
       "       'Jean Lassalle', 'Anne Hidalgo', 'Marine Le Pen',\n",
       "       'Valérie Pécresse', 'Nicolas Dupont-Aignan', 'Yannick Jadot',\n",
       "       'Avec vous', 'Eric Zemmour'], dtype=object)"
      ]
     },
     "execution_count": 18,
     "metadata": {},
     "output_type": "execute_result"
    }
   ],
   "source": [
    "videos_candidats_toutes.candidat.unique()"
   ]
  },
  {
   "cell_type": "code",
   "execution_count": 19,
   "metadata": {},
   "outputs": [],
   "source": [
    "liste_chaines_candidats_officiels = [\"Anne Hidalgo\",\n",
    "                                    \"Avec vous\",\n",
    "                                    \"Eric Zemmour\",\n",
    "                                    \"Jean Lassalle\",\n",
    "                                    \"Jean-Luc Mélenchon\",\n",
    "                                    \"Marine Le Pen\",   \n",
    "                                    \"Nathalie Arthaud\", \n",
    "                                    \"Nicolas Dupont-Aignan\",\n",
    "                                    \"Valérie Pécresse\",  \n",
    "                                    \"Yannick Jadot\"]\n",
    "\n",
    "# Filtrage du dtf de toutes les vidéos à partir de la liste officielle\n",
    "boolean_series_globale = videos_candidats_toutes.candidat.isin(liste_chaines_candidats_officiels)\n",
    "videos_candidats_toutes = videos_candidats_toutes[boolean_series_globale]\n",
    "\n",
    "# Filtrage des vidéos de l'année 2022\n",
    "boolean_series_2022 = videos_candidats_2022.candidat.isin(liste_chaines_candidats_officiels)\n",
    "videos_candidats_2022 = videos_candidats_2022[boolean_series_2022]\n",
    "\n",
    "# Filtrage des vidéos de l'année 2021\n",
    "boolean_series_2021 = videos_candidats_2021.candidat.isin(liste_chaines_candidats_officiels)\n",
    "videos_candidats_2021 = videos_candidats_2021[boolean_series_2021]"
   ]
  },
  {
   "cell_type": "markdown",
   "metadata": {},
   "source": [
    "# 2. Travail sur l'activité des courants et des candidats\n",
    "\n",
    "Suivi d'activité : nb vidéos ; likes ; vues ; durée"
   ]
  },
  {
   "cell_type": "markdown",
   "metadata": {},
   "source": [
    "## 2.2. Export des suivis d'activité mensuelle par courant"
   ]
  },
  {
   "cell_type": "code",
   "execution_count": 20,
   "metadata": {},
   "outputs": [],
   "source": [
    "import gen_activitemensuelle_data_810 as amd810\n",
    "\n",
    "# Generation des fichiers de synthese des courants\n",
    "# On les dump dans les différents dossiers de \"data_output/2022/\"\n",
    "\n",
    "###############################\n",
    "# Annee 2022\n",
    "###############################\n",
    "# Dump nombre de vidéos\n",
    "dtf_global_nbvids = amd810.make_synthese_nbvideo_par_courant(videos_candidats_2022, indicateur=\"nb videos\", annee= 2022)\n",
    "amd810.dump_synthese_courants(dtf_synth_courant=dtf_global_nbvids, nomfichier=dossier_output + activityfolder_json +'synthese_nbvideos_courant_2022.json')\n",
    "\n",
    "# Dump nombre de likes\n",
    "dtf_global_likes = amd810.make_synthese_nbvideo_par_courant(videos_candidats_2022, indicateur=\"likes\", annee= 2022)\n",
    "amd810.dump_synthese_courants(dtf_synth_courant=dtf_global_likes, nomfichier=dossier_output + activityfolder_json + 'synthese_likes_courant_2022.json')\n",
    "\n",
    "# Dump nombre de vues\n",
    "dtf_global_vues = amd810.make_synthese_nbvideo_par_courant(videos_candidats_2022, indicateur=\"vues\", annee= 2022)\n",
    "amd810.dump_synthese_courants(dtf_synth_courant=dtf_global_vues, nomfichier=dossier_output + activityfolder_json + 'synthese_vues_courant_2022.json')\n",
    "\n",
    "# Dumper les CSV pour datawrapper.de\n",
    "dtf_global_nbvids.to_csv(dossier_output + activityfolder_csv + 'synthese_nbvideos_courant_2022.csv')\n",
    "dtf_global_likes.to_csv(dossier_output + activityfolder_csv + 'synthese_likes_courant_2022.csv')\n",
    "dtf_global_vues.to_csv(dossier_output + activityfolder_csv + 'synthese_vues_courant_2022.csv')\n",
    "\n",
    "\n",
    "###############################\n",
    "# Annee 2021\n",
    "###############################\n",
    "# Dump nombre de vidéos\n",
    "dtf_global_nbvids = amd810.make_synthese_nbvideo_par_courant(videos_candidats_2021, indicateur=\"nb videos\", annee= 2021)\n",
    "amd810.dump_synthese_courants(dtf_synth_courant=dtf_global_nbvids, nomfichier=dossier_output + activityfolder_json +'synthese_nbvideos_courant_2021.json')\n",
    "\n",
    "# Dump nombre de likes\n",
    "dtf_global_likes = amd810.make_synthese_nbvideo_par_courant(videos_candidats_2021, indicateur=\"likes\", annee= 2021)\n",
    "amd810.dump_synthese_courants(dtf_synth_courant=dtf_global_likes, nomfichier=dossier_output + activityfolder_json + 'synthese_likes_courant_2021.json')\n",
    "\n",
    "# Dump nombre de vues\n",
    "dtf_global_vues = amd810.make_synthese_nbvideo_par_courant(videos_candidats_2021, indicateur=\"vues\", annee= 2021)\n",
    "amd810.dump_synthese_courants(dtf_synth_courant=dtf_global_vues, nomfichier=dossier_output + activityfolder_json + 'synthese_vues_courant_2021.json')\n",
    "\n",
    "# Dumper les CSV pour datawrapper.de\n",
    "dtf_global_nbvids.to_csv(dossier_output + activityfolder_csv + 'synthese_nbvideos_courant_2021.csv')\n",
    "dtf_global_likes.to_csv(dossier_output + activityfolder_csv + 'synthese_likes_courant_2021.csv')\n",
    "dtf_global_vues.to_csv(dossier_output + activityfolder_csv + 'synthese_vues_courant_2021.csv')\n"
   ]
  },
  {
   "cell_type": "markdown",
   "metadata": {},
   "source": [
    "## 2.3. Export des suivis d'activite mensuelle des candidats et candidates"
   ]
  },
  {
   "cell_type": "code",
   "execution_count": 21,
   "metadata": {},
   "outputs": [],
   "source": [
    "liste_candidats = ['Eric Zemmour', 'Avec vous', 'Jean-Luc Mélenchon', 'Valérie Pécresse', 'Yannick Jadot', 'Anne Hidalgo', \"Jean Lassalle\"]"
   ]
  },
  {
   "cell_type": "code",
   "execution_count": 22,
   "metadata": {},
   "outputs": [],
   "source": [
    "###############################\n",
    "# Annee 2022\n",
    "###############################\n",
    "# Dump nombre de vidéos\n",
    "dtf_candidat_perf = amd810.make_synthese_nbvideo_par_candidat(dtsource=videos_candidats_2022, indicateur = \"nb videos\", liste_candidats =liste_candidats, annee=2022)\n",
    "dtf_candidat_perf = dtf_candidat_perf.rename(columns={'Avec vous': 'Emmanuel Macron'})\n",
    "amd810.dump_synthese_candidats_v0(dtf_synth_candidat=dtf_candidat_perf, nomfichier=dossier_output + activityfolder_json + 'synthese_nbvideos_candidats_2022.json')\n",
    "dtf_candidat_perf.to_csv(dossier_output + activityfolder_csv + 'synthese_nbvideos_candidats_2022.csv')\n",
    "\n",
    "# Dump likes\n",
    "dtf_candidat_perf = amd810.make_synthese_nbvideo_par_candidat(dtsource=videos_candidats_2022, indicateur = \"likes\", liste_candidats =liste_candidats, annee=2022)\n",
    "dtf_candidat_perf = dtf_candidat_perf.rename(columns={'Avec vous': 'Emmanuel Macron'})\n",
    "amd810.dump_synthese_candidats_v0(dtf_synth_candidat=dtf_candidat_perf, nomfichier=dossier_output + activityfolder_json + 'synthese_likes_candidats_2022.json')\n",
    "dtf_candidat_perf.to_csv(dossier_output + activityfolder_csv + 'synthese_likes_candidats_2022.csv')\n",
    "\n",
    "# Dump vues\n",
    "dtf_candidat_perf = amd810.make_synthese_nbvideo_par_candidat(dtsource=videos_candidats_2022, indicateur = \"vues\", liste_candidats =liste_candidats, annee=2022)\n",
    "dtf_candidat_perf = dtf_candidat_perf.rename(columns={'Avec vous': 'Emmanuel Macron'})\n",
    "amd810.dump_synthese_candidats_v0(dtf_synth_candidat=dtf_candidat_perf, nomfichier=dossier_output + activityfolder_json +'synthese_vues_candidats_2022.json')\n",
    "dtf_candidat_perf.to_csv(dossier_output + activityfolder_csv + 'synthese_vues_candidats_2022.csv')\n",
    "\n",
    "\n",
    "###############################\n",
    "# Annee 2021\n",
    "###############################\n",
    "# Dump nombre de vidéos\n",
    "dtf_candidat_perf = amd810.make_synthese_nbvideo_par_candidat(dtsource=videos_candidats_2021, indicateur = \"nb videos\", liste_candidats =liste_candidats, annee=2021)\n",
    "dtf_candidat_perf = dtf_candidat_perf.rename(columns={'Avec vous': 'Emmanuel Macron'})\n",
    "amd810.dump_synthese_candidats_v0(dtf_synth_candidat=dtf_candidat_perf, nomfichier=dossier_output + activityfolder_json + 'synthese_nbvideos_candidats_2021.json')\n",
    "dtf_candidat_perf.to_csv(dossier_output + activityfolder_csv + 'synthese_nbvideos_candidats_2021.csv')\n",
    "\n",
    "# Dump likes\n",
    "dtf_candidat_perf = amd810.make_synthese_nbvideo_par_candidat(dtsource=videos_candidats_2021, indicateur = \"likes\", liste_candidats =liste_candidats, annee=2021)\n",
    "dtf_candidat_perf = dtf_candidat_perf.rename(columns={'Avec vous': 'Emmanuel Macron'})\n",
    "amd810.dump_synthese_candidats_v0(dtf_synth_candidat=dtf_candidat_perf, nomfichier=dossier_output + activityfolder_json + 'synthese_likes_candidats_2021.json')\n",
    "dtf_candidat_perf.to_csv(dossier_output + activityfolder_csv + 'synthese_likes_candidats_2021.csv')\n",
    "\n",
    "# Dump vues\n",
    "dtf_candidat_perf = amd810.make_synthese_nbvideo_par_candidat(dtsource=videos_candidats_2021, indicateur = \"vues\", liste_candidats =liste_candidats, annee=2021)\n",
    "dtf_candidat_perf = dtf_candidat_perf.rename(columns={'Avec vous': 'Emmanuel Macron'})\n",
    "amd810.dump_synthese_candidats_v0(dtf_synth_candidat=dtf_candidat_perf, nomfichier=dossier_output + activityfolder_json +'synthese_vues_candidats_2021.json')\n",
    "dtf_candidat_perf.to_csv(dossier_output + activityfolder_csv + 'synthese_vues_candidats_2021.csv')\n"
   ]
  },
  {
   "cell_type": "markdown",
   "metadata": {},
   "source": [
    "# 3. Travail sur les Tags\n",
    "\n",
    "On va dumper un CSV par mois, qu'on utilisera sur le site https://810.fr pour faire des articles\n",
    "\n",
    "On va dumper un json sur toute l'année 2022 pour le publier sur https://s01.810.fr"
   ]
  },
  {
   "cell_type": "code",
   "execution_count": 23,
   "metadata": {},
   "outputs": [],
   "source": [
    "import gen_tags_visu_810 as tv810\n",
    "\n",
    "debutjanv22 =  datetime.datetime(2022,1,1,0,0,0)\n",
    "debutjanv23 =  datetime.datetime(2023,1,1,0,0,0)\n",
    "videos_candidats_2022_full = videos_candidats_toutes[videos_candidats_toutes['dateVideo'] > debutjanv22]\n",
    "videos_candidats_2022_full = videos_candidats_2022_full[videos_candidats_2022_full['dateVideo'] < debutjanv23]"
   ]
  },
  {
   "cell_type": "markdown",
   "metadata": {},
   "source": [
    "## 3.2. Export des données par courants\n",
    "\n",
    "### 3.2.1. Extrême droite"
   ]
  },
  {
   "cell_type": "code",
   "execution_count": 24,
   "metadata": {},
   "outputs": [
    {
     "data": {
      "image/png": "[encoded data removed]",
      "text/plain": [
       "<Figure size 432x288 with 1 Axes>"
      ]
     },
     "metadata": {
      "needs_background": "light"
     },
     "output_type": "display_data"
    }
   ],
   "source": [
    "# Année 2022\n",
    "subdtf_videos = videos_candidats_2022_full\n",
    "videos_xd_22, videos_xg_22, videos_d_22, videos_g_22, videos_c_22, videos_v_22, videos_reste_22 = amd810.un_dtf_par_courant(subdtf=subdtf_videos)\n",
    "top_tags = tv810.liste_top_tags_de_chaines (dtfv = videos_xd_22, colonne = 'courant', valeur = 'Extrême droite', top = 10, titre = '', color = \"#073763\", liste_exceptions = ['Debout La France', 'Nicolas Dupont-Aignan', 'zemmour', 'zemmour 2022', 'Z00Z'])\n",
    "# Dump des fichiers\n",
    "tv810.dump_tags_json(toptags=top_tags, nomfichier= dossier_output + toptagsfolder_json + \"top_tags_extreme_droite_2022.json\")\n",
    "top_tags.to_csv(dossier_output + toptagsfolder_csv + 'top_tags_extreme_droite_2022.csv')"
   ]
  },
  {
   "cell_type": "code",
   "execution_count": 25,
   "metadata": {},
   "outputs": [
    {
     "data": {
      "image/png": "[encoded data removed]",
      "text/plain": [
       "<Figure size 432x288 with 1 Axes>"
      ]
     },
     "metadata": {
      "needs_background": "light"
     },
     "output_type": "display_data"
    }
   ],
   "source": [
    "# Année 2021\n",
    "subdtf_videos = videos_candidats_2021\n",
    "videos_xd_21, videos_xg_21, videos_d_21, videos_g_21, videos_c_21, videos_v_21, videos_reste_21 = amd810.un_dtf_par_courant(subdtf=subdtf_videos)\n",
    "top_tags = tv810.liste_top_tags_de_chaines (dtfv = videos_xd_21, colonne = 'courant', valeur = 'Extrême droite', top = 10, titre = '', color = \"#073763\", liste_exceptions = ['Debout La France', 'Nicolas Dupont-Aignan', 'zemmour', 'zemmour 2022', 'Z00Z'])\n",
    "# Dump des fichiers\n",
    "tv810.dump_tags_json(toptags=top_tags, nomfichier= dossier_output + toptagsfolder_json + \"top_tags_extreme_droite_2021.json\")\n",
    "top_tags.to_csv(dossier_output + toptagsfolder_csv + 'top_tags_extreme_droite_2021.csv')"
   ]
  },
  {
   "cell_type": "markdown",
   "metadata": {},
   "source": [
    "### 3.2.2. Extrême gauche"
   ]
  },
  {
   "cell_type": "code",
   "execution_count": 26,
   "metadata": {},
   "outputs": [
    {
     "data": {
      "image/png": "[encoded data removed]",
      "text/plain": [
       "<Figure size 432x288 with 1 Axes>"
      ]
     },
     "metadata": {
      "needs_background": "light"
     },
     "output_type": "display_data"
    }
   ],
   "source": [
    "# Année 2022\n",
    "top_tags = tv810.liste_top_tags_de_chaines (dtfv = videos_xg_22, colonne = 'courant', valeur = 'Extrême gauche', top = 10, titre = '', color = \"#cc0000\", liste_exceptions = ['Nathalie', 'Lutte', 'ouvrière', 'Arthaud', 'LO', 'mélenchon'])\n",
    "tv810.dump_tags_json(toptags=top_tags, nomfichier= dossier_output + toptagsfolder_json + \"top_tags_extreme_gauche_2022.json\")\n",
    "top_tags.to_csv(dossier_output + toptagsfolder_csv + 'top_tags_extreme_gauche_2022.csv')"
   ]
  },
  {
   "cell_type": "code",
   "execution_count": 27,
   "metadata": {},
   "outputs": [
    {
     "data": {
      "image/png": "[encoded data removed]",
      "text/plain": [
       "<Figure size 432x288 with 1 Axes>"
      ]
     },
     "metadata": {
      "needs_background": "light"
     },
     "output_type": "display_data"
    }
   ],
   "source": [
    "# Année 2021\n",
    "top_tags = tv810.liste_top_tags_de_chaines (dtfv = videos_xg_21, colonne = 'courant', valeur = 'Extrême gauche', top = 10, titre = '', color = \"#cc0000\", liste_exceptions = ['Nathalie', 'Lutte', 'ouvrière', 'Arthaud', 'LO', 'mélenchon'])\n",
    "tv810.dump_tags_json(toptags=top_tags, nomfichier= dossier_output + toptagsfolder_json + \"top_tags_extreme_gauche_2021.json\")\n",
    "top_tags.to_csv(dossier_output + toptagsfolder_csv + 'top_tags_extreme_gauche_2021.csv')"
   ]
  },
  {
   "cell_type": "markdown",
   "metadata": {},
   "source": [
    "### 3.2.3. Droite"
   ]
  },
  {
   "cell_type": "code",
   "execution_count": 28,
   "metadata": {},
   "outputs": [
    {
     "data": {
      "image/png": "[encoded data removed]",
      "text/plain": [
       "<Figure size 432x288 with 1 Axes>"
      ]
     },
     "metadata": {
      "needs_background": "light"
     },
     "output_type": "display_data"
    }
   ],
   "source": [
    "# Année 2022\n",
    "top_tags = tv810.liste_top_tags_de_chaines (dtfv = videos_d_22, colonne = 'courant', valeur = 'droite', top = 10, titre = '', color = \"#3c78d8\")\n",
    "tv810.dump_tags_json(toptags=top_tags, nomfichier=dossier_output + toptagsfolder_json + \"top_tags_droite_2022.json\")\n",
    "top_tags.to_csv(dossier_output + toptagsfolder_csv + 'top_tags_droite_2022.csv')"
   ]
  },
  {
   "cell_type": "code",
   "execution_count": 29,
   "metadata": {},
   "outputs": [
    {
     "data": {
      "image/png": "[encoded data removed]",
      "text/plain": [
       "<Figure size 432x288 with 1 Axes>"
      ]
     },
     "metadata": {
      "needs_background": "light"
     },
     "output_type": "display_data"
    }
   ],
   "source": [
    "# Année 2021\n",
    "top_tags = tv810.liste_top_tags_de_chaines (dtfv = videos_d_21, colonne = 'courant', valeur = 'droite', top = 10, titre = '', color = \"#3c78d8\")\n",
    "tv810.dump_tags_json(toptags=top_tags, nomfichier=dossier_output + toptagsfolder_json + \"top_tags_droite_2021.json\")\n",
    "top_tags.to_csv(dossier_output + toptagsfolder_csv + 'top_tags_droite_2021.csv')"
   ]
  },
  {
   "cell_type": "markdown",
   "metadata": {},
   "source": [
    "### 3.2.4. Gauche"
   ]
  },
  {
   "cell_type": "code",
   "execution_count": 30,
   "metadata": {},
   "outputs": [
    {
     "name": "stdout",
     "output_type": "stream",
     "text": [
      "Aucun tags trouvés sur les vidéos sélectionnées\n"
     ]
    }
   ],
   "source": [
    "# Année 2022\n",
    "top_tags = tv810.liste_top_tags_de_chaines (dtfv = videos_g_22, colonne = 'courant', valeur = 'gauche', top = 10, titre = '', color = \"#e6a3bf\")\n",
    "tv810.dump_tags_json(toptags=top_tags, nomfichier=dossier_output + toptagsfolder_json + \"top_tags_gauche_2022.json\")\n",
    "top_tags.to_csv(dossier_output + toptagsfolder_csv + 'top_tags_gauche_2022.csv')"
   ]
  },
  {
   "cell_type": "code",
   "execution_count": 31,
   "metadata": {},
   "outputs": [
    {
     "name": "stdout",
     "output_type": "stream",
     "text": [
      "Aucun tags trouvés sur les vidéos sélectionnées\n"
     ]
    }
   ],
   "source": [
    "# Année 2021\n",
    "top_tags = tv810.liste_top_tags_de_chaines (dtfv = videos_g_21, colonne = 'courant', valeur = 'gauche', top = 10, titre = '', color = \"#e6a3bf\")\n",
    "tv810.dump_tags_json(toptags=top_tags, nomfichier=dossier_output + toptagsfolder_json + \"top_tags_gauche_2021.json\")\n",
    "top_tags.to_csv(dossier_output + toptagsfolder_csv + 'top_tags_gauche_2021.csv')"
   ]
  },
  {
   "cell_type": "markdown",
   "metadata": {},
   "source": [
    "### 3.2.5. Verts"
   ]
  },
  {
   "cell_type": "code",
   "execution_count": 32,
   "metadata": {},
   "outputs": [
    {
     "name": "stdout",
     "output_type": "stream",
     "text": [
      "impossible de dropper Les Verts\n"
     ]
    },
    {
     "data": {
      "image/png": "[encoded data removed]",
      "text/plain": [
       "<Figure size 432x288 with 1 Axes>"
      ]
     },
     "metadata": {
      "needs_background": "light"
     },
     "output_type": "display_data"
    }
   ],
   "source": [
    "# Année 2022\n",
    "top_tags = tv810.liste_top_tags_de_chaines (dtfv = videos_v_22, colonne = 'courant', valeur = 'vert', top = 10, titre = '', color = \"#6aa84f\", liste_exceptions=['jadot 2022', 'yannick jadot', 'Les Verts'])\n",
    "tv810.dump_tags_json(toptags=top_tags, nomfichier=dossier_output + toptagsfolder_json + \"top_tags_verts_2022.json\")\n",
    "top_tags.to_csv(dossier_output + toptagsfolder_csv + 'top_tags_verts_2022.csv')"
   ]
  },
  {
   "cell_type": "code",
   "execution_count": 33,
   "metadata": {},
   "outputs": [
    {
     "data": {
      "image/png": "[encoded data removed]",
      "text/plain": [
       "<Figure size 432x288 with 1 Axes>"
      ]
     },
     "metadata": {
      "needs_background": "light"
     },
     "output_type": "display_data"
    }
   ],
   "source": [
    "# Année 2021\n",
    "# On va filtrer pas mal de tags, car il y en a plusieurs qui ne sont pas très parlant\n",
    "top_tags = tv810.liste_top_tags_de_chaines (dtfv = videos_v_21, colonne = 'courant', valeur = 'vert', top = 10, titre = '', color = \"#6aa84f\", liste_exceptions=['jadot 2022', 'yannick jadot', 'Europe Écologie Les Verts', 'Les Verts', '2022lecologie.fr', 'candidature écologie', 'Yannick Jadot 2022', 'Q&A', 'écologistes', 'Jadot2022', 'Jadot 2022'])\n",
    "tv810.dump_tags_json(toptags=top_tags, nomfichier=dossier_output + toptagsfolder_json + \"top_tags_verts_2021.json\")\n",
    "top_tags.to_csv(dossier_output + toptagsfolder_csv + 'top_tags_verts_2021.csv')"
   ]
  },
  {
   "cell_type": "markdown",
   "metadata": {},
   "source": [
    "#### Bonus : Dumper tous les tags des verts\n",
    "\n",
    "On a remarqué que certains tags des verts étaient très surprenants. On a donc fait une fonction qui permet de récupérer ces tags"
   ]
  },
  {
   "cell_type": "code",
   "execution_count": 34,
   "metadata": {},
   "outputs": [
    {
     "data": {
      "text/html": [
       "<div>\n",
       "<style scoped>\n",
       "    .dataframe tbody tr th:only-of-type {\n",
       "        vertical-align: middle;\n",
       "    }\n",
       "\n",
       "    .dataframe tbody tr th {\n",
       "        vertical-align: top;\n",
       "    }\n",
       "\n",
       "    .dataframe thead th {\n",
       "        text-align: right;\n",
       "    }\n",
       "</style>\n",
       "<table border=\"1\" class=\"dataframe\">\n",
       "  <thead>\n",
       "    <tr style=\"text-align: right;\">\n",
       "      <th></th>\n",
       "      <th>NomO</th>\n",
       "      <th>dateP</th>\n",
       "      <th>hashtag</th>\n",
       "      <th>nbLikes</th>\n",
       "    </tr>\n",
       "  </thead>\n",
       "  <tbody>\n",
       "    <tr>\n",
       "      <th>0</th>\n",
       "      <td>YANNICK JADOT FACE À BFM TV</td>\n",
       "      <td>2022-02-16 12:04:04</td>\n",
       "      <td>#jadot2022</td>\n",
       "      <td>244</td>\n",
       "    </tr>\n",
       "    <tr>\n",
       "      <th>1</th>\n",
       "      <td>YANNICK JADOT FACE À BFM TV</td>\n",
       "      <td>2022-02-16 12:04:04</td>\n",
       "      <td>#yannickjadot</td>\n",
       "      <td>244</td>\n",
       "    </tr>\n",
       "  </tbody>\n",
       "</table>\n",
       "</div>"
      ],
      "text/plain": [
       "                          NomO               dateP        hashtag  nbLikes\n",
       "0  YANNICK JADOT FACE À BFM TV 2022-02-16 12:04:04     #jadot2022      244\n",
       "1  YANNICK JADOT FACE À BFM TV 2022-02-16 12:04:04  #yannickjadot      244"
      ]
     },
     "execution_count": 34,
     "metadata": {},
     "output_type": "execute_result"
    }
   ],
   "source": [
    "hash_v = tv810.create_hashtagliste_dataframe(videos_v_22)\n",
    "hash_v.head(2)"
   ]
  },
  {
   "cell_type": "markdown",
   "metadata": {},
   "source": [
    "### 3.2.6. Majorité"
   ]
  },
  {
   "cell_type": "code",
   "execution_count": 35,
   "metadata": {},
   "outputs": [
    {
     "data": {
      "image/png": "[encoded data removed]",
      "text/plain": [
       "<Figure size 432x288 with 1 Axes>"
      ]
     },
     "metadata": {
      "needs_background": "light"
     },
     "output_type": "display_data"
    }
   ],
   "source": [
    "# Année 2022\n",
    "top_tags = tv810.liste_top_tags_de_chaines (dtfv = videos_c_22, colonne = 'courant', valeur = 'centre', top = 10, titre = '', color = \"#9fc5e8\", liste_exceptions=['macron'])\n",
    "tv810.dump_tags_json(toptags=top_tags, nomfichier=dossier_output + toptagsfolder_json + \"top_tags_majorite_2022.json\")\n",
    "top_tags.to_csv(dossier_output + toptagsfolder_csv + 'top_tags_majorite_2022.csv')"
   ]
  },
  {
   "cell_type": "code",
   "execution_count": 36,
   "metadata": {},
   "outputs": [
    {
     "name": "stdout",
     "output_type": "stream",
     "text": [
      "Aucun tags trouvés sur les vidéos sélectionnées\n"
     ]
    }
   ],
   "source": [
    "# Année 2021\n",
    "# On sait que ce sera vide, vu que la chaîne a commencé à exister en 2022, mais nous agissons comme des machines\n",
    "top_tags = tv810.liste_top_tags_de_chaines (dtfv = videos_c_21, colonne = 'courant', valeur = 'centre', top = 10, titre = '', color = \"#9fc5e8\")\n",
    "tv810.dump_tags_json(toptags=top_tags, nomfichier=dossier_output + toptagsfolder_json + \"top_tags_majorite_2021.json\")\n",
    "top_tags.to_csv(dossier_output + toptagsfolder_csv + 'top_tags_majorite_2021.csv')"
   ]
  },
  {
   "cell_type": "markdown",
   "metadata": {},
   "source": [
    "# Préparation des transcripts pour notre traitement suivant\n",
    "\n",
    "Ici, on liste les vidéos pour lesquelles on va vouloir récupérer le transcript.\n",
    "\n",
    "Dans notre cas, on souhaite ne travailler pour l'instant que sur le mois de février."
   ]
  },
  {
   "cell_type": "code",
   "execution_count": 37,
   "metadata": {},
   "outputs": [
    {
     "data": {
      "text/plain": [
       "231"
      ]
     },
     "execution_count": 37,
     "metadata": {},
     "output_type": "execute_result"
    }
   ],
   "source": [
    "date_segment = {\"datemin\" : datetime.datetime(2022,2,1,0,0,0), \"datemax\" : datetime.datetime(2022,3,1,0,0,0)}\n",
    "video_du_mois = videos_candidats_2022[videos_candidats_2022['dateVideo'] > date_segment[\"datemin\"]]\n",
    "video_du_mois = video_du_mois[video_du_mois[\"dateVideo\"] < date_segment[\"datemax\"]]\n",
    "video_du_mois.shape[0]"
   ]
  },
  {
   "cell_type": "code",
   "execution_count": 38,
   "metadata": {},
   "outputs": [],
   "source": [
    "video_du_mois.to_csv('./temp_files/liste_de_video_pour_transcript_analyse.csv')"
   ]
  },
  {
   "cell_type": "markdown",
   "metadata": {},
   "source": [
    "# Extraction de quelques stats globales pour le bandeau défilant"
   ]
  },
  {
   "cell_type": "code",
   "execution_count": 39,
   "metadata": {},
   "outputs": [
    {
     "data": {
      "text/plain": [
       "17853409"
      ]
     },
     "execution_count": 39,
     "metadata": {},
     "output_type": "execute_result"
    }
   ],
   "source": [
    "video_du_mois.vuesVideo.sum()"
   ]
  },
  {
   "cell_type": "code",
   "execution_count": 40,
   "metadata": {},
   "outputs": [
    {
     "data": {
      "text/plain": [
       "231"
      ]
     },
     "execution_count": 40,
     "metadata": {},
     "output_type": "execute_result"
    }
   ],
   "source": [
    "video_du_mois.shape[0]"
   ]
  },
  {
   "cell_type": "code",
   "execution_count": null,
   "metadata": {},
   "outputs": [],
   "source": []
  }
 ],
 "metadata": {
  "interpreter": {
   "hash": "2ed17ee1431ea646ff4cd0e36ebc6074f1354fab28092324062941991356fcdc"
  },
  "kernelspec": {
   "display_name": "Python 3.8.5 64-bit ('base': conda)",
   "name": "python3"
  },
  "language_info": {
   "codemirror_mode": {
    "name": "ipython",
    "version": 3
   },
   "file_extension": ".py",
   "mimetype": "text/x-python",
   "name": "python",
   "nbconvert_exporter": "python",
   "pygments_lexer": "ipython3",
   "version": "3.8.5"
  },
  "orig_nbformat": 4
 },
 "nbformat": 4,
 "nbformat_minor": 2
}
